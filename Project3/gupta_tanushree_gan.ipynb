{
  "nbformat": 4,
  "nbformat_minor": 0,
  "metadata": {
    "colab": {
      "name": "gupta_tanushree_gan.ipynb",
      "provenance": [],
      "collapsed_sections": [],
      "toc_visible": true,
      "include_colab_link": true
    },
    "kernelspec": {
      "name": "python2",
      "display_name": "Python 2"
    }
  },
  "cells": [
    {
      "cell_type": "markdown",
      "metadata": {
        "id": "view-in-github",
        "colab_type": "text"
      },
      "source": [
        "<a href=\"https://colab.research.google.com/github/tshreegupta/ECE595DL/blob/main/Project3/gupta_tanushree_gan.ipynb\" target=\"_parent\"><img src=\"https://colab.research.google.com/assets/colab-badge.svg\" alt=\"Open In Colab\"/></a>"
      ]
    },
    {
      "cell_type": "markdown",
      "metadata": {
        "id": "zKRfNs6ICuLD"
      },
      "source": [
        "#Student Name: Tanushree Gupta\n",
        "#ECE 595 Machine Learning II\n",
        "#Project 3: GAN - Student Code"
      ]
    },
    {
      "cell_type": "code",
      "metadata": {
        "id": "9nfXEi7WC0OA",
        "colab": {
          "base_uri": "https://localhost:8080/"
        },
        "outputId": "86155962-deba-4af4-9962-d13651846847"
      },
      "source": [
        "#Import necessary packages\n",
        "import numpy as np\n",
        "import keras\n",
        "from keras.layers import Dense, Dropout, Input\n",
        "from keras.models import Model,Sequential\n",
        "from keras.datasets import mnist\n",
        "from keras.layers.advanced_activations import LeakyReLU\n",
        "from keras.optimizers import adam\n",
        "from keras.models import load_model\n",
        "import matplotlib.pyplot as plt"
      ],
      "execution_count": 1,
      "outputs": [
        {
          "output_type": "stream",
          "name": "stderr",
          "text": [
            "Using TensorFlow backend.\n"
          ]
        }
      ]
    },
    {
      "cell_type": "markdown",
      "metadata": {
        "id": "fACNZwo4DBrP"
      },
      "source": [
        "#Part 1: Implementing the GAN"
      ]
    },
    {
      "cell_type": "code",
      "metadata": {
        "colab": {
          "base_uri": "https://localhost:8080/"
        },
        "id": "bwp3NoCRNpiQ",
        "outputId": "b40d2a02-3f1d-4ad9-f329-ce36d2366c40"
      },
      "source": [
        "#Load MNIST data and normalize to [-1, 1]\n",
        "# Fill this in\n",
        "(data_train, _), (data_test, _) = mnist.load_data()\n",
        "data_train = (2.0*data_train/255.0)- 1.0\n",
        "data_test = (2.0*data_test/255.0) - 1.0"
      ],
      "execution_count": 2,
      "outputs": [
        {
          "output_type": "stream",
          "name": "stdout",
          "text": [
            "Downloading data from https://s3.amazonaws.com/img-datasets/mnist.npz\n",
            "11493376/11490434 [==============================] - 2s 0us/step\n",
            "11501568/11490434 [==============================] - 2s 0us/step\n"
          ]
        }
      ]
    },
    {
      "cell_type": "code",
      "metadata": {
        "colab": {
          "base_uri": "https://localhost:8080/"
        },
        "id": "YjrfKtZYgsPb",
        "outputId": "1fbab2db-de3a-40fb-c3fd-813eb39dcd91"
      },
      "source": [
        "data_train = data_train.reshape(60000,-1)\n",
        "data_test = data_test.reshape(10000,-1)\n",
        "print(data_test.shape)"
      ],
      "execution_count": 12,
      "outputs": [
        {
          "output_type": "stream",
          "name": "stdout",
          "text": [
            "(10000, 784)\n"
          ]
        }
      ]
    },
    {
      "cell_type": "code",
      "metadata": {
        "id": "YoHSO_uTSX2b"
      },
      "source": [
        "# The D-dimensional noise vector length\n",
        "latent_dim = 100\n",
        "\n",
        "# Dimension of generaed output\n",
        "data_dim = 784\n",
        "# Optimizer for discriminator, which will have a higher learning rate than adversarial model\n",
        "def dis_adam_optimizer():\n",
        "    # FILL THIS IN\n",
        "    return adam(lr = 0.0002, beta_1 = 0.5)\n",
        "\n",
        "# Optimizer for discriminator, which will have a higher learning rate than adversarial model\n",
        "def gan_adam_optimizer():\n",
        "    # FILL THIS IN\n",
        "    return adam(lr = 0.001)\n",
        "\n",
        "# Genrerator model\n",
        "def create_generator():\n",
        "    # FILL THIS IN\n",
        "    generator = Sequential()\n",
        "    generator.add(Dense(250 , input_dim=latent_dim))\n",
        "    generator.add(LeakyReLU(0.1))\n",
        "    generator.add(Dense(550))\n",
        "    generator.add(LeakyReLU(0.1))\n",
        "    generator.add(Dense(1100))\n",
        "    generator.add(LeakyReLU(0.1))\n",
        "    generator.add(Dense(data_dim, activation = 'tanh'))\n",
        "\n",
        "    return generator\n",
        "\n",
        "# Discriminator model\n",
        "def create_discriminator(drop, drop_alpha):\n",
        "    # FILL THIS IN\n",
        "    discriminator = Sequential()\n",
        "    discriminator.add(Dense(1100 , input_dim=data_dim))\n",
        "    discriminator.add(LeakyReLU(0.1))\n",
        "    if drop:\n",
        "        discriminator.add(Dropout(drop_alpha))\n",
        "    discriminator.add(Dense(550))\n",
        "    discriminator.add(LeakyReLU(0.1))\n",
        "    if drop:\n",
        "        discriminator.add(Dropout(drop_alpha))\n",
        "    discriminator.add(Dense(250))\n",
        "    discriminator.add(LeakyReLU(0.1))\n",
        "    discriminator.add(Dense(1, activation = 'sigmoid'))\n",
        "    discriminator.compile(loss = 'binary_crossentropy',\n",
        "                optimizer = dis_adam_optimizer(),\n",
        "                metrics = ['accuracy'])\n",
        "    return discriminator\n",
        "\n",
        "# Create adversarial model\n",
        "def create_gan(discriminator, generator):\n",
        "    # FILL THIS IN\n",
        "    discriminator.trainable = False\n",
        "    gan_input = Input(shape=(latent_dim,))\n",
        "    x = generator(gan_input)\n",
        "    gan_output = discriminator(x)\n",
        "    gan = Model(input = gan_input, output = gan_output)\n",
        "    gan.compile(loss = 'binary_crossentropy',\n",
        "                optimizer = gan_adam_optimizer(),\n",
        "                metrics = ['accuracy'])\n",
        "\n",
        "    return gan"
      ],
      "execution_count": 25,
      "outputs": []
    },
    {
      "cell_type": "code",
      "metadata": {
        "id": "IAKtkDn6DQsy",
        "colab": {
          "base_uri": "https://localhost:8080/",
          "height": 340
        },
        "outputId": "757dc4ff-e011-4a10-d22d-8c0e68e3ad2c"
      },
      "source": [
        "\n",
        "# Creating GAN\n",
        "generator = create_generator()\n",
        "discriminator = create_discriminator(True,0.5)\n",
        "gan = create_gan(discriminator, generator)\n",
        "\n",
        "# Model and training parameters\n",
        "#ASSIGN VALUES TO THE FOLLOWING VARIABLES\n",
        "epochs = 100000\n",
        "batch_size = 1024\n",
        "sample_interval = epochs/10\n",
        "\n",
        "# Array to save training history\n",
        "training_meta_data = np.zeros([epochs, 4])\n",
        "\n",
        "# Training the GAN\n",
        "for e in range(1, epochs+1):\n",
        "\n",
        "    # Generate random noise as input\n",
        "    # FILL THIS IN\n",
        "    noise = np.random.normal(0,1,[batch_size,latent_dim])\n",
        "\n",
        "    # Generate fake MNIST images from generated noise\n",
        "    # FILL THIS IN\n",
        "    fake_images = generator.predict(noise)\n",
        "\n",
        "    # Get a random set of real MNIST images\n",
        "    # FILL THIS IN\n",
        "    real_images = data_train[np.random.randint(0,data_train.shape[0],batch_size)]\n",
        "\n",
        "    # Concatenate real and fake images into a single array (or batch)\n",
        "    # FILL THIS IN\n",
        "    input_batch = np.concatenate([real_images,fake_images])\n",
        "\n",
        "    # Assign training labels (assign high probability, but not 1, to real images)\n",
        "    # FILL THIS IN\n",
        "    label = np.zeros(2*batch_size)\n",
        "    label[:batch_size] = 0.94\n",
        "\n",
        "    # Allow discriminator parameters to be updated\n",
        "    # FILL THIS IN\n",
        "    discriminator.trainable = True\n",
        "\n",
        "    # Train discriminator on batch of real and fake images. Assign loss and accuracy to variable\n",
        "    # FILL THIS IN\n",
        "    d_loss =discriminator.train_on_batch(input_batch,label)\n",
        "\n",
        "    # Train adversarial model and try to fool discriminator (with incorrect label) \n",
        "    # by generating a new batch of noise and assign them labels of real data\n",
        "    # FILL THIS IN\n",
        "    wlabel_noise = np.random.normal(0,1,[batch_size,latent_dim])\n",
        "    wlabel = np.ones(batch_size)\n",
        "\n",
        "    # Keep discriminator weights constant while training generator\n",
        "    # FILL THIS IN\n",
        "    discriminator.trainable = False\n",
        "\n",
        "    # Train GAN (without updating discriminator weights) on new batch of fake images. Assign loss and accuracy to variable\n",
        "    # FILL THIS IN\n",
        "    gan_loss = gan.train_on_batch(wlabel_noise,wlabel)\n",
        "\n",
        "    # Save training status\n",
        "    # Discriminator and model loss\n",
        "    training_meta_data[e-1, 0] = d_loss[0]\n",
        "    training_meta_data[e-1, 1] = gan_loss[0]\n",
        "\n",
        "    # Discriminator and model accuracy\n",
        "    training_meta_data[e-1, 2] = d_loss[1]\n",
        "    training_meta_data[e-1, 3] = gan_loss[1]\n",
        "\n",
        "\n",
        "    # If at sample interval, print training status and save samples\n",
        "    if e % sample_interval == 0:\n",
        "      \n",
        "        # Print training status\n",
        "        print(\"Epoch %d\" %e)\n",
        "        log_mesg = \"%d: [Discriminaotr loss: %f, acc: %f]\" % (e, d_loss[0], d_loss[1])\n",
        "        log_mesg = \"%s  [GAN loss: %f, acc: %f]\" % (log_mesg, gan_loss[0], gan_loss[1])\n",
        "        print(log_mesg)\n",
        "        \n",
        "        # Plot images \n",
        "        r, c = 5, 5\n",
        "\n",
        "        # Create images from the noise (predict the outcome of the noise)\n",
        "        gen_imgs = generator.predict(noise)\n",
        "\n",
        "        # Rescale images 0 - 1\n",
        "        gen_imgs = 0.5 * gen_imgs + 0.5\n",
        "\n",
        "        fig, axs = plt.subplots(r, c)\n",
        "        cnt = 0\n",
        "        for i in range(r):\n",
        "            for j in range(c):\n",
        "                axs[i,j].imshow((gen_imgs[cnt].reshape(28, 28)), cmap='gray')\n",
        "                axs[i,j].axis('off')\n",
        "                cnt += 1\n",
        "        plt.show()"
      ],
      "execution_count": null,
      "outputs": [
        {
          "output_type": "stream",
          "name": "stderr",
          "text": [
            "/usr/local/lib/python2.7/dist-packages/ipykernel_launcher.py:57: UserWarning: Update your `Model` call to the Keras 2 API: `Model(outputs=Tensor(\"se..., inputs=Tensor(\"in...)`\n"
          ]
        },
        {
          "output_type": "stream",
          "name": "stdout",
          "text": [
            "Epoch 10000\n",
            "10000: [Discriminaotr loss: 0.590184, acc: 0.438965]  [GAN loss: 1.066877, acc: 0.224609]\n"
          ]
        },
        {
          "output_type": "display_data",
          "data": {
            "image/png": "[encoded data removed]",
            "text/plain": [
              "<Figure size 432x288 with 25 Axes>"
            ]
          },
          "metadata": {
            "needs_background": "light"
          }
        }
      ]
    },
    {
      "cell_type": "code",
      "metadata": {
        "id": "hqRJEDeIG9mx",
        "colab": {
          "base_uri": "https://localhost:8080/",
          "height": 312
        },
        "outputId": "1c966c7c-9c1a-404e-c793-c3795c50bee2"
      },
      "source": [
        "# Plot model loss vs epoch\n",
        "#FILL THIS CODE BLOCK IN AND PRODUCE PLOT\n",
        "plt.plot(training_meta_data[:,0])\n",
        "plt.plot(training_meta_data[:,1])\n",
        "plt.ylabel('loss')\n",
        "plt.xlabel('epoch')\n",
        "plt.legend(['Discriminator loss','GAN loss'])\n",
        "plt.title('Training loss')"
      ],
      "execution_count": 27,
      "outputs": [
        {
          "output_type": "execute_result",
          "data": {
            "text/plain": [
              "Text(0.5,1,'Training loss')"
            ]
          },
          "metadata": {},
          "execution_count": 27
        },
        {
          "output_type": "display_data",
          "data": {
            "image/png": "[encoded data removed]",
            "text/plain": [
              "<Figure size 432x288 with 1 Axes>"
            ]
          },
          "metadata": {
            "needs_background": "light"
          }
        }
      ]
    },
    {
      "cell_type": "code",
      "metadata": {
        "id": "zUJwhntuHJK8",
        "colab": {
          "base_uri": "https://localhost:8080/",
          "height": 312
        },
        "outputId": "4671ecda-d42e-4639-ccba-73eba5f3353b"
      },
      "source": [
        "# Plot accuracy vs epoch\n",
        "#FILL THIS CODE BLOCK IN AND PRODUCE PLOT\n",
        "plt.plot(training_meta_data[:,0])\n",
        "plt.plot(training_meta_data[:,1])\n",
        "plt.ylabel('accuracy')\n",
        "plt.xlabel('epoch')\n",
        "plt.legend(['Discriminator accuracy','GAN accuracy'])\n",
        "plt.title('Training Accuracy')"
      ],
      "execution_count": 28,
      "outputs": [
        {
          "output_type": "execute_result",
          "data": {
            "text/plain": [
              "Text(0.5,1,'Training Accuracy')"
            ]
          },
          "metadata": {},
          "execution_count": 28
        },
        {
          "output_type": "display_data",
          "data": {
            "image/png": "[encoded data removed]",
            "text/plain": [
              "<Figure size 432x288 with 1 Axes>"
            ]
          },
          "metadata": {
            "needs_background": "light"
          }
        }
      ]
    },
    {
      "cell_type": "markdown",
      "metadata": {
        "id": "Ry1lAyrHpfGV"
      },
      "source": [
        "### Question 4: Importance of Dropout in the discriminator"
      ]
    },
    {
      "cell_type": "code",
      "metadata": {
        "id": "uYqHqz-Dpwrz"
      },
      "source": [
        "\n",
        "# Creating GAN\n",
        "generator = create_generator()\n",
        "discriminator = create_discriminator(False,0.5)\n",
        "gan = create_gan(discriminator, generator)\n",
        "\n",
        "# Model and training parameters\n",
        "#ASSIGN VALUES TO THE FOLLOWING VARIABLES\n",
        "epochs = 100000\n",
        "batch_size = 1024\n",
        "sample_interval = epochs/10\n",
        "\n",
        "# Array to save training history\n",
        "training_meta_data = np.zeros([epochs, 4])\n",
        "\n",
        "# Training the GAN\n",
        "for e in range(1, epochs+1):\n",
        "\n",
        "    # Generate random noise as input\n",
        "    # FILL THIS IN\n",
        "    noise = np.random.normal(0,1,[batch_size,latent_dim])\n",
        "\n",
        "    # Generate fake MNIST images from generated noise\n",
        "    # FILL THIS IN\n",
        "    fake_images = generator.predict(noise)\n",
        "\n",
        "    # Get a random set of real MNIST images\n",
        "    # FILL THIS IN\n",
        "    real_images = data_train[np.random.randint(0,data_train.shape[0],batch_size)]\n",
        "\n",
        "    # Concatenate real and fake images into a single array (or batch)\n",
        "    # FILL THIS IN\n",
        "    input_batch = np.concatenate([real_images,fake_images])\n",
        "\n",
        "    # Assign training labels (assign high probability, but not 1, to real images)\n",
        "    # FILL THIS IN\n",
        "    label = np.zeros(2*batch_size)\n",
        "    label[:batch_size] = 0.94\n",
        "\n",
        "    # Allow discriminator parameters to be updated\n",
        "    # FILL THIS IN\n",
        "    discriminator.trainable = True\n",
        "\n",
        "    # Train discriminator on batch of real and fake images. Assign loss and accuracy to variable\n",
        "    # FILL THIS IN\n",
        "    d_loss =discriminator.train_on_batch(input_batch,label)\n",
        "\n",
        "    # Train adversarial model and try to fool discriminator (with incorrect label) \n",
        "    # by generating a new batch of noise and assign them labels of real data\n",
        "    # FILL THIS IN\n",
        "    wlabel_noise = np.random.normal(0,1,[batch_size,latent_dim])\n",
        "    wlabel = np.ones(batch_size)\n",
        "\n",
        "    # Keep discriminator weights constant while training generator\n",
        "    # FILL THIS IN\n",
        "    discriminator.trainable = False\n",
        "\n",
        "    # Train GAN (without updating discriminator weights) on new batch of fake images. Assign loss and accuracy to variable\n",
        "    # FILL THIS IN\n",
        "    gan_loss = gan.train_on_batch(wlabel_noise,wlabel)\n",
        "\n",
        "    # Save training status\n",
        "    # Discriminator and model loss\n",
        "    training_meta_data[e-1, 0] = d_loss[0]\n",
        "    training_meta_data[e-1, 1] = gan_loss[0]\n",
        "\n",
        "    # Discriminator and model accuracy\n",
        "    training_meta_data[e-1, 2] = d_loss[1]\n",
        "    training_meta_data[e-1, 3] = gan_loss[1]\n",
        "\n",
        "\n",
        "    # If at sample interval, print training status and save samples\n",
        "    if e % sample_interval == 0:\n",
        "      \n",
        "        # Print training status\n",
        "        print(\"Epoch %d\" %e)\n",
        "        log_mesg = \"%d: [Discriminaotr loss: %f, acc: %f]\" % (e, d_loss[0], d_loss[1])\n",
        "        log_mesg = \"%s  [GAN loss: %f, acc: %f]\" % (log_mesg, gan_loss[0], gan_loss[1])\n",
        "        print(log_mesg)\n",
        "        \n",
        "        # Plot images \n",
        "        r, c = 5, 5\n",
        "\n",
        "        # Create images from the noise (predict the outcome of the noise)\n",
        "        gen_imgs = generator.predict(noise)\n",
        "\n",
        "        # Rescale images 0 - 1\n",
        "        gen_imgs = 0.5 * gen_imgs + 0.5\n",
        "\n",
        "        fig, axs = plt.subplots(r, c)\n",
        "        cnt = 0\n",
        "        for i in range(r):\n",
        "            for j in range(c):\n",
        "                axs[i,j].imshow((gen_imgs[cnt].reshape(28, 28)), cmap='gray')\n",
        "                axs[i,j].axis('off')\n",
        "                cnt += 1\n",
        "        plt.show()"
      ],
      "execution_count": null,
      "outputs": []
    },
    {
      "cell_type": "code",
      "metadata": {
        "id": "jVheDkZgqCpo"
      },
      "source": [
        "# Plot model loss vs epoch\n",
        "#FILL THIS CODE BLOCK IN AND PRODUCE PLOT\n",
        "plt.plot(training_meta_data[:,0])\n",
        "plt.plot(training_meta_data[:,1])\n",
        "plt.ylabel('loss')\n",
        "plt.xlabel('epoch')\n",
        "plt.legend(['Discriminator loss','GAN loss'])\n",
        "plt.title('Training loss')"
      ],
      "execution_count": null,
      "outputs": []
    },
    {
      "cell_type": "code",
      "metadata": {
        "id": "Y7aHJIpJqFwl"
      },
      "source": [
        "# Plot accuracy vs epoch\n",
        "#FILL THIS CODE BLOCK IN AND PRODUCE PLOT\n",
        "plt.plot(training_meta_data[:,0])\n",
        "plt.plot(training_meta_data[:,1])\n",
        "plt.ylabel('accuracy')\n",
        "plt.xlabel('epoch')\n",
        "plt.legend(['Discriminator accuracy','GAN accuracy'])\n",
        "plt.title('Training Accuracy')"
      ],
      "execution_count": null,
      "outputs": []
    },
    {
      "cell_type": "markdown",
      "metadata": {
        "id": "rRRp4ek5qBjM"
      },
      "source": [
        "### Question 5a: Dropout rate decreased by 0.1"
      ]
    },
    {
      "cell_type": "code",
      "metadata": {
        "id": "rq4ktH1bquGT"
      },
      "source": [
        "\n",
        "# Creating GAN\n",
        "generator = create_generator()\n",
        "discriminator = create_discriminator(True,0.4)\n",
        "gan = create_gan(discriminator, generator)\n",
        "\n",
        "# Model and training parameters\n",
        "#ASSIGN VALUES TO THE FOLLOWING VARIABLES\n",
        "epochs = 50000\n",
        "batch_size = 1024\n",
        "sample_interval = epochs/10\n",
        "\n",
        "# Array to save training history\n",
        "training_meta_data = np.zeros([epochs, 4])\n",
        "\n",
        "# Training the GAN\n",
        "for e in range(1, epochs+1):\n",
        "\n",
        "    # Generate random noise as input\n",
        "    # FILL THIS IN\n",
        "    noise = np.random.normal(0,1,[batch_size,latent_dim])\n",
        "\n",
        "    # Generate fake MNIST images from generated noise\n",
        "    # FILL THIS IN\n",
        "    fake_images = generator.predict(noise)\n",
        "\n",
        "    # Get a random set of real MNIST images\n",
        "    # FILL THIS IN\n",
        "    real_images = data_train[np.random.randint(0,data_train.shape[0],batch_size)]\n",
        "\n",
        "    # Concatenate real and fake images into a single array (or batch)\n",
        "    # FILL THIS IN\n",
        "    input_batch = np.concatenate([real_images,fake_images])\n",
        "\n",
        "    # Assign training labels (assign high probability, but not 1, to real images)\n",
        "    # FILL THIS IN\n",
        "    label = np.zeros(2*batch_size)\n",
        "    label[:batch_size] = 0.94\n",
        "\n",
        "    # Allow discriminator parameters to be updated\n",
        "    # FILL THIS IN\n",
        "    discriminator.trainable = True\n",
        "\n",
        "    # Train discriminator on batch of real and fake images. Assign loss and accuracy to variable\n",
        "    # FILL THIS IN\n",
        "    d_loss =discriminator.train_on_batch(input_batch,label)\n",
        "\n",
        "    # Train adversarial model and try to fool discriminator (with incorrect label) \n",
        "    # by generating a new batch of noise and assign them labels of real data\n",
        "    # FILL THIS IN\n",
        "    wlabel_noise = np.random.normal(0,1,[batch_size,latent_dim])\n",
        "    wlabel = np.ones(batch_size)\n",
        "\n",
        "    # Keep discriminator weights constant while training generator\n",
        "    # FILL THIS IN\n",
        "    discriminator.trainable = False\n",
        "\n",
        "    # Train GAN (without updating discriminator weights) on new batch of fake images. Assign loss and accuracy to variable\n",
        "    # FILL THIS IN\n",
        "    gan_loss = gan.train_on_batch(wlabel_noise,wlabel)\n",
        "\n",
        "    # Save training status\n",
        "    # Discriminator and model loss\n",
        "    training_meta_data[e-1, 0] = d_loss[0]\n",
        "    training_meta_data[e-1, 1] = gan_loss[0]\n",
        "\n",
        "    # Discriminator and model accuracy\n",
        "    training_meta_data[e-1, 2] = d_loss[1]\n",
        "    training_meta_data[e-1, 3] = gan_loss[1]\n",
        "\n",
        "\n",
        "    # If at sample interval, print training status and save samples\n",
        "    if e % sample_interval == 0:\n",
        "      \n",
        "        # Print training status\n",
        "        print(\"Epoch %d\" %e)\n",
        "        log_mesg = \"%d: [Discriminaotr loss: %f, acc: %f]\" % (e, d_loss[0], d_loss[1])\n",
        "        log_mesg = \"%s  [GAN loss: %f, acc: %f]\" % (log_mesg, gan_loss[0], gan_loss[1])\n",
        "        print(log_mesg)\n",
        "        \n",
        "        # Plot images \n",
        "        r, c = 5, 5\n",
        "\n",
        "        # Create images from the noise (predict the outcome of the noise)\n",
        "        gen_imgs = generator.predict(noise)\n",
        "\n",
        "        # Rescale images 0 - 1\n",
        "        gen_imgs = 0.5 * gen_imgs + 0.5\n",
        "\n",
        "        fig, axs = plt.subplots(r, c)\n",
        "        cnt = 0\n",
        "        for i in range(r):\n",
        "            for j in range(c):\n",
        "                axs[i,j].imshow((gen_imgs[cnt].reshape(28, 28)), cmap='gray')\n",
        "                axs[i,j].axis('off')\n",
        "                cnt += 1\n",
        "        plt.show()"
      ],
      "execution_count": null,
      "outputs": []
    },
    {
      "cell_type": "markdown",
      "metadata": {
        "id": "Cc9i9FE7qz6y"
      },
      "source": [
        "### Question 5b) Bonus Question\n"
      ]
    },
    {
      "cell_type": "code",
      "metadata": {
        "id": "3AIUYi-1spzU"
      },
      "source": [
        "# The D-dimensional noise vector length\n",
        "latent_dim = 100\n",
        "\n",
        "# Dimension of generaed output\n",
        "data_dim = 784\n",
        "# Optimizer for discriminator, which will have a higher learning rate than adversarial model\n",
        "def dis_adam_optimizer():\n",
        "    # FILL THIS IN\n",
        "    return adam(lr = 0.0002, beta_1 = 0.5)\n",
        "\n",
        "# Optimizer for discriminator, which will have a higher learning rate than adversarial model\n",
        "def gan_adam_optimizer():\n",
        "    # FILL THIS IN\n",
        "    return adam(lr = 0.001)\n",
        "\n",
        "# Genrerator model\n",
        "def create_generator_b():\n",
        "    # FILL THIS IN\n",
        "    generator = Sequential()\n",
        "    generator.add(Dense(300 , input_dim=latent_dim))\n",
        "    generator.add(LeakyReLU(0.2))\n",
        "    generator.add(Dense(600))\n",
        "    generator.add(LeakyReLU(0.2))\n",
        "    generator.add(Dense(1200))\n",
        "    generator.add(LeakyReLU(0.1))\n",
        "    generator.add(Dense(data_dim, activation = 'tanh'))\n",
        "\n",
        "    return generator\n",
        "\n",
        "# Discriminator model\n",
        "def create_discriminator_b(drop, drop_alpha):\n",
        "    # FILL THIS IN\n",
        "    discriminator = Sequential()\n",
        "    discriminator.add(Dense(1200 , input_dim=data_dim))\n",
        "    discriminator.add(LeakyReLU(0.1))\n",
        "    if drop:\n",
        "        discriminator.add(Dropout(drop_alpha))\n",
        "    discriminator.add(Dense(600))\n",
        "    discriminator.add(LeakyReLU(0.1))\n",
        "    if drop:\n",
        "        discriminator.add(Dropout(drop_alpha))\n",
        "    discriminator.add(Dense(300))\n",
        "    discriminator.add(LeakyReLU(0.1))\n",
        "    discriminator.add(Dense(1, activation = 'sigmoid'))\n",
        "    discriminator.compile(loss = 'binary_crossentropy',\n",
        "                optimizer = dis_adam_optimizer(),\n",
        "                metrics = ['accuracy'])\n",
        "    return discriminator\n",
        "\n",
        "# Create adversarial model\n",
        "def create_gan(discriminator, generator):\n",
        "    # FILL THIS IN\n",
        "    discriminator.trainable = False\n",
        "    gan_input = Input(shape=(latent_dim,))\n",
        "    x = generator(gan_input)\n",
        "    gan_output = discriminator(x)\n",
        "    gan = Model(input = gan_input, output = gan_output)\n",
        "    gan.compile(loss = 'binary_crossentropy',\n",
        "                optimizer = gan_adam_optimizer(),\n",
        "                metrics = ['accuracy'])\n",
        "\n",
        "    return gan"
      ],
      "execution_count": null,
      "outputs": []
    },
    {
      "cell_type": "code",
      "metadata": {
        "id": "JQQXGaa4qzQA"
      },
      "source": [
        "\n",
        "# Creating GAN\n",
        "generator_b = create_generator_b()\n",
        "discriminator_b = create_discriminator_b(True,0.4)\n",
        "gan = create_gan(discriminator_b, generator_b)\n",
        "\n",
        "# Model and training parameters\n",
        "#ASSIGN VALUES TO THE FOLLOWING VARIABLES\n",
        "epochs = 50000\n",
        "batch_size = 1024\n",
        "sample_interval = epochs/10\n",
        "\n",
        "# Array to save training history\n",
        "training_meta_data = np.zeros([epochs, 4])\n",
        "\n",
        "# Training the GAN\n",
        "for e in range(1, epochs+1):\n",
        "\n",
        "    # Generate random noise as input\n",
        "    # FILL THIS IN\n",
        "    noise = np.random.normal(0,1,[batch_size,latent_dim])\n",
        "\n",
        "    # Generate fake MNIST images from generated noise\n",
        "    # FILL THIS IN\n",
        "    fake_images = generator_b.predict(noise)\n",
        "\n",
        "    # Get a random set of real MNIST images\n",
        "    # FILL THIS IN\n",
        "    real_images = data_train[np.random.randint(0,data_train.shape[0],batch_size)]\n",
        "\n",
        "    # Concatenate real and fake images into a single array (or batch)\n",
        "    # FILL THIS IN\n",
        "    input_batch = np.concatenate([real_images,fake_images])\n",
        "\n",
        "    # Assign training labels (assign high probability, but not 1, to real images)\n",
        "    # FILL THIS IN\n",
        "    label = np.zeros(2*batch_size)\n",
        "    label[:batch_size] = 0.94\n",
        "\n",
        "    # Allow discriminator parameters to be updated\n",
        "    # FILL THIS IN\n",
        "    discriminator_b.trainable = True\n",
        "\n",
        "    # Train discriminator on batch of real and fake images. Assign loss and accuracy to variable\n",
        "    # FILL THIS IN\n",
        "    d_loss =discriminator_b.train_on_batch(input_batch,label)\n",
        "\n",
        "    # Train adversarial model and try to fool discriminator (with incorrect label) \n",
        "    # by generating a new batch of noise and assign them labels of real data\n",
        "    # FILL THIS IN\n",
        "    wlabel_noise = np.random.normal(0,1,[batch_size,latent_dim])\n",
        "    wlabel = np.ones(batch_size)\n",
        "\n",
        "    # Keep discriminator weights constant while training generator\n",
        "    # FILL THIS IN\n",
        "    discriminator_b.trainable = False\n",
        "\n",
        "    # Train GAN (without updating discriminator weights) on new batch of fake images. Assign loss and accuracy to variable\n",
        "    # FILL THIS IN\n",
        "    gan_loss = gan.train_on_batch(wlabel_noise,wlabel)\n",
        "\n",
        "    # Save training status\n",
        "    # Discriminator and model loss\n",
        "    training_meta_data[e-1, 0] = d_loss[0]\n",
        "    training_meta_data[e-1, 1] = gan_loss[0]\n",
        "\n",
        "    # Discriminator and model accuracy\n",
        "    training_meta_data[e-1, 2] = d_loss[1]\n",
        "    training_meta_data[e-1, 3] = gan_loss[1]\n",
        "\n",
        "\n",
        "    # If at sample interval, print training status and save samples\n",
        "    if e % sample_interval == 0:\n",
        "      \n",
        "        # Print training status\n",
        "        print(\"Epoch %d\" %e)\n",
        "        log_mesg = \"%d: [Discriminaotr loss: %f, acc: %f]\" % (e, d_loss[0], d_loss[1])\n",
        "        log_mesg = \"%s  [GAN loss: %f, acc: %f]\" % (log_mesg, gan_loss[0], gan_loss[1])\n",
        "        print(log_mesg)\n",
        "        \n",
        "        # Plot images \n",
        "        r, c = 5, 5\n",
        "\n",
        "        # Create images from the noise (predict the outcome of the noise)\n",
        "        gen_imgs = generator_b.predict(noise)\n",
        "\n",
        "        # Rescale images 0 - 1\n",
        "        gen_imgs = 0.5 * gen_imgs + 0.5\n",
        "\n",
        "        fig, axs = plt.subplots(r, c)\n",
        "        cnt = 0\n",
        "        for i in range(r):\n",
        "            for j in range(c):\n",
        "                axs[i,j].imshow((gen_imgs[cnt].reshape(28, 28)), cmap='gray')\n",
        "                axs[i,j].axis('off')\n",
        "                cnt += 1\n",
        "        plt.show()"
      ],
      "execution_count": null,
      "outputs": []
    },
    {
      "cell_type": "markdown",
      "metadata": {
        "id": "dC_kPLFKHS7c"
      },
      "source": [
        "[4]. Compare and comment on the results of GAN with dropout and without dropout.\n",
        "\n",
        "\n",
        "[5][a]. Comment on importance of hyper-parameter tuning\n",
        "\n",
        "\n",
        "[6]. Answer the following questions:\n",
        "\n",
        "\n",
        "\n",
        "1.   Why does the accuracy of the discriminator remain around 50%? Is this a good trait of the GAN? \n",
        "\n",
        "  ANS: \n",
        "\n",
        "\n",
        "2.   How could this model be modified to produce cleaner (less noisy) images? \n",
        "\n",
        "  ANS: "
      ]
    },
    {
      "cell_type": "markdown",
      "metadata": {
        "id": "4ZBFSk1RHX5J"
      },
      "source": [
        "#Part 2: Generating samples using trained generator"
      ]
    },
    {
      "cell_type": "code",
      "metadata": {
        "id": "LHaVnENuHcKQ"
      },
      "source": [
        "# Generate ten images from Gaussian noise using the trained generator from Part 1\n",
        "# FILL THIS IN\n",
        "ran_noise = np.random.normal(0, 1, [10, latent_dim])\n",
        "gen_images = generator.predict(ran_noise)\n",
        "\n",
        "# Re-scale generated images to lie in [0, 1]\n",
        "# FILL THIS IN\n",
        "gen_images = 0.5 * gen_images + 0.5"
      ],
      "execution_count": null,
      "outputs": []
    },
    {
      "cell_type": "code",
      "metadata": {
        "id": "nak-dm-CIC6r"
      },
      "source": [
        "# Visualize generated noise\n",
        "r, c = 2, 5\n",
        "fig, axs = plt.subplots(r, c)\n",
        "cnt = 0\n",
        "for i in range(r):\n",
        "    for j in range(c):\n",
        "        axs[i,j].imshow((noise[cnt].reshape(10, 10)), cmap='gray')\n",
        "        axs[i,j].axis('off')\n",
        "        cnt += 1\n",
        "plt.show()"
      ],
      "execution_count": null,
      "outputs": []
    },
    {
      "cell_type": "code",
      "metadata": {
        "id": "r-Jir5ULIITP"
      },
      "source": [
        "# Visualize generated samples\n",
        "r, c = 2, 5\n",
        "fig, axs = plt.subplots(r, c)\n",
        "cnt = 0\n",
        "for i in range(r):\n",
        "    for j in range(c):\n",
        "        axs[i,j].imshow((gen_images[cnt].reshape(28, 28)), cmap='gray')\n",
        "        axs[i,j].axis('off')\n",
        "        cnt += 1\n",
        "plt.show()"
      ],
      "execution_count": null,
      "outputs": []
    },
    {
      "cell_type": "markdown",
      "metadata": {
        "id": "w4I4Q8fhIheQ"
      },
      "source": [
        "#Part 3: Testing accuracy of generated images on ten samples"
      ]
    },
    {
      "cell_type": "code",
      "metadata": {
        "id": "pHjnlh6dIiMv"
      },
      "source": [
        "# Load mnist classifier and generated images\n",
        "mnist_classifier = load_model('mnist_classifier.h5')"
      ],
      "execution_count": null,
      "outputs": []
    },
    {
      "cell_type": "code",
      "metadata": {
        "id": "P_BFS0cgInWF"
      },
      "source": [
        "# ASSIGN CLASSES\n",
        "labels = []\n",
        "\n",
        "# Convert integer labels to one-hot labels \n",
        "labels = keras.utils.np_utils.to_categorical(labels, num_classes=10)\n",
        "\n",
        "# Show classifications\n",
        "# FILL THIS IN \n",
        "mnist_classifier.predict(gen_images)\n",
        "print(\"Classification\\n\")\n",
        "print(pred_mnist)\n",
        "\n",
        "print(\"\\n\\nPredicted Label\")\n",
        "print(np.argmax(pred_mnist, axis=1))\n",
        "print(\"\\nTrue Label\")\n",
        "print(labels)\n",
        "\n",
        "# Convert integer labels to one-hot labels \n",
        "labels = keras.utils.np_utils.to_categorical(labels, num_classes=10)\n",
        "\n",
        "# Evaluate accuracy\n",
        "# FILL THIS IN\n",
        "loss, acc = mnist_classifier.evaluate(gen_images, labels, verbose=0)\n",
        "print(\"\\nLoss: {:e}\\n\\nAccuracy: {:0.2f}%\".format(loss, acc*100))"
      ],
      "execution_count": null,
      "outputs": []
    },
    {
      "cell_type": "markdown",
      "metadata": {
        "id": "hxCLMvJnI95c"
      },
      "source": [
        "**a) State the accuracy of the classifier on your ten generated images. Based on this accuracy, would you say your generator does well in producing images comparable to those in the MNIST dataset of hand-written digits? Why or why not?**\n",
        "\n",
        "**b) In this project, we only tested the performance of the pre-trained classifier on ten samples and used its result to determine the robustness of the generator. How could we better assess the quality of the generated images using this pre-trained classifier and the saved generator?**"
      ]
    }
  ]
}