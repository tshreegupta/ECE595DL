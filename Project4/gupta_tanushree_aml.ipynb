{
  "nbformat": 4,
  "nbformat_minor": 0,
  "metadata": {
    "colab": {
      "name": "gupta_tanushree_aml.ipynb",
      "provenance": [],
      "toc_visible": true,
      "include_colab_link": true
    },
    "kernelspec": {
      "display_name": "Python 3 (ipykernel)",
      "language": "python",
      "name": "python3"
    },
    "language_info": {
      "codemirror_mode": {
        "name": "ipython",
        "version": 3
      },
      "file_extension": ".py",
      "mimetype": "text/x-python",
      "name": "python",
      "nbconvert_exporter": "python",
      "pygments_lexer": "ipython3",
      "version": "3.9.7"
    }
  },
  "cells": [
    {
      "cell_type": "markdown",
      "metadata": {
        "id": "view-in-github",
        "colab_type": "text"
      },
      "source": [
        "<a href=\"https://colab.research.google.com/github/tshreegupta/ECE595DL/blob/main/Project4/gupta_tanushree_aml.ipynb\" target=\"_parent\"><img src=\"https://colab.research.google.com/assets/colab-badge.svg\" alt=\"Open In Colab\"/></a>"
      ]
    },
    {
      "cell_type": "markdown",
      "metadata": {
        "id": "NiZYmbLsCx8C"
      },
      "source": [
        "### Student Name: Tanushree Gupta\n",
        "### ECE 595 Machine Learning II\n",
        "### Project 4: Adversarial Machine Learning - Student Code"
      ]
    },
    {
      "cell_type": "code",
      "metadata": {
        "colab": {
          "base_uri": "https://localhost:8080/"
        },
        "id": "ZH3b6I2oq_6i",
        "outputId": "13c791f7-eaf9-471b-8009-e2c02286dc6b"
      },
      "source": [
        "%tensorflow_version 1.x\n",
        "#Install Cleverhans (version Cleverhans 2.1.0 is most compatable with Python 2.x)\n",
        "!pip install cleverhans==2.1.0\n",
        "#!pip install tensorflow==2.7.0"
      ],
      "execution_count": 3,
      "outputs": [
        {
          "output_type": "stream",
          "name": "stdout",
          "text": [
            "TensorFlow 1.x selected.\n",
            "Collecting cleverhans==2.1.0\n",
            "  Downloading cleverhans-2.1.0-py3-none-any.whl (74 kB)\n",
            "\u001b[K     |████████████████████████████████| 74 kB 3.7 MB/s \n",
            "\u001b[?25hRequirement already satisfied: matplotlib in /usr/local/lib/python3.7/dist-packages (from cleverhans==2.1.0) (3.2.2)\n",
            "Collecting nose\n",
            "  Downloading nose-1.3.7-py3-none-any.whl (154 kB)\n",
            "\u001b[K     |████████████████████████████████| 154 kB 46.6 MB/s \n",
            "\u001b[?25hRequirement already satisfied: scipy in /usr/local/lib/python3.7/dist-packages (from cleverhans==2.1.0) (1.4.1)\n",
            "Requirement already satisfied: numpy in /usr/local/lib/python3.7/dist-packages (from cleverhans==2.1.0) (1.19.5)\n",
            "Collecting mnist~=0.2\n",
            "  Downloading mnist-0.2.2-py2.py3-none-any.whl (3.5 kB)\n",
            "Collecting pycodestyle\n",
            "  Downloading pycodestyle-2.8.0-py2.py3-none-any.whl (42 kB)\n",
            "\u001b[K     |████████████████████████████████| 42 kB 966 kB/s \n",
            "\u001b[?25hRequirement already satisfied: pyparsing!=2.0.4,!=2.1.2,!=2.1.6,>=2.0.1 in /usr/local/lib/python3.7/dist-packages (from matplotlib->cleverhans==2.1.0) (3.0.6)\n",
            "Requirement already satisfied: python-dateutil>=2.1 in /usr/local/lib/python3.7/dist-packages (from matplotlib->cleverhans==2.1.0) (2.8.2)\n",
            "Requirement already satisfied: cycler>=0.10 in /usr/local/lib/python3.7/dist-packages (from matplotlib->cleverhans==2.1.0) (0.11.0)\n",
            "Requirement already satisfied: kiwisolver>=1.0.1 in /usr/local/lib/python3.7/dist-packages (from matplotlib->cleverhans==2.1.0) (1.3.2)\n",
            "Requirement already satisfied: six>=1.5 in /usr/local/lib/python3.7/dist-packages (from python-dateutil>=2.1->matplotlib->cleverhans==2.1.0) (1.15.0)\n",
            "Installing collected packages: pycodestyle, nose, mnist, cleverhans\n",
            "Successfully installed cleverhans-2.1.0 mnist-0.2.2 nose-1.3.7 pycodestyle-2.8.0\n"
          ]
        }
      ]
    },
    {
      "cell_type": "code",
      "metadata": {
        "id": "mVKiKyxvrDio",
        "colab": {
          "base_uri": "https://localhost:8080/"
        },
        "outputId": "90657be7-36b9-416c-d8f2-9b246f2fe104"
      },
      "source": [
        "\n",
        "#Import necessary packages\n",
        "from keras.datasets import mnist\n",
        "from keras import Sequential\n",
        "from keras.layers import Dense, BatchNormalization\n",
        "from keras import backend\n",
        "import keras\n",
        "import tensorflow as tf\n",
        "# import tensorflow.compat.v1 as tf\n",
        "import numpy as np\n",
        "import matplotlib.pyplot as plt\n",
        "from sklearn.decomposition import PCA\n",
        "from cleverhans.utils_keras import KerasModelWrapper\n",
        "from cleverhans.attacks import FastGradientMethod, MadryEtAl, DeepFool, CarliniWagnerL2\n",
        "from progressbar import progressbar"
      ],
      "execution_count": 4,
      "outputs": [
        {
          "output_type": "stream",
          "name": "stderr",
          "text": [
            "Using TensorFlow backend.\n"
          ]
        }
      ]
    },
    {
      "cell_type": "markdown",
      "metadata": {
        "id": "AR7lUPK3rL3d"
      },
      "source": [
        "### Part 1: Training a target classifier"
      ]
    },
    {
      "cell_type": "code",
      "metadata": {
        "id": "dRvltpU9rMZp",
        "colab": {
          "base_uri": "https://localhost:8080/"
        },
        "outputId": "e6fdfb47-d6e3-4948-bd4e-c1dbb82e2890"
      },
      "source": [
        "# Load data MNIST data and normalize to [0, 1]\n",
        "#FILL THIS IN\n",
        "(data_train,label_train),(data_test,label_test) = mnist.load_data()\n",
        "data_train = data_train/255.0\n",
        "data_test = data_test/255.0\n",
        "\n",
        "#Reshape training and testing data into 784-dimensional vectors \n",
        "#FILL THIS IN\n",
        "data_train_reshape = data_train.reshape(-1,784)\n",
        "data_test_reshape = data_test.reshape(-1,784)\n",
        "\n",
        "#Convert integer labels for training and testing data into one-hot vectors \n",
        "#FILL THIS IN\n",
        "label_train =  keras.utils.np_utils.to_categorical(label_train,num_classes=10)\n",
        "label_test =  keras.utils.np_utils.to_categorical(label_test,num_classes=10)\n"
      ],
      "execution_count": 5,
      "outputs": [
        {
          "output_type": "stream",
          "name": "stdout",
          "text": [
            "Downloading data from https://s3.amazonaws.com/img-datasets/mnist.npz\n",
            "11493376/11490434 [==============================] - 0s 0us/step\n"
          ]
        }
      ]
    },
    {
      "cell_type": "code",
      "metadata": {
        "id": "4n1SiEZ0dySU"
      },
      "source": [
        "#Create classifier architecture, compile it, and train it\n",
        "#FILL THIS IN\n",
        "def target():\n",
        "    model = Sequential()\n",
        "    \n",
        "    #First layer\n",
        "    model.add(Dense(100,activation = 'relu', input_dim=784, kernel_initializer='normal'))\n",
        "    \n",
        "    #Second Layer\n",
        "    model.add(BatchNormalization())\n",
        "\n",
        "    #Third Layer\n",
        "    model.add(Dense(100, activation= 'relu', kernel_initializer='normal'))\n",
        "    \n",
        "    #Fourth Layer\n",
        "    model.add(BatchNormalization())\n",
        "    \n",
        "    #Output Layer\n",
        "    model.add(Dense(10,activation = 'softmax', kernel_initializer='normal'))\n",
        "    \n",
        "    return model"
      ],
      "execution_count": 6,
      "outputs": []
    },
    {
      "cell_type": "code",
      "metadata": {
        "colab": {
          "base_uri": "https://localhost:8080/"
        },
        "id": "u8EKaU_adySU",
        "outputId": "71c3786b-d0c6-47e2-fe21-e5bd67659449"
      },
      "source": [
        "#Compile the target\n",
        "attacker = target()\n",
        "\n",
        "# Array to save training history\n",
        "attacker.compile(loss = 'categorical_crossentropy',\n",
        "                 optimizer = 'adam',\n",
        "                 metrics = ['accuracy'])\n",
        "\n",
        "attacker_meta_data= attacker.fit(data_train_reshape,label_train,\n",
        "                                  batch_size = 256,\n",
        "                                  epochs = 50,\n",
        "                                  shuffle = True,\n",
        "                                  validation_data = (data_test_reshape,label_test))\n",
        "    "
      ],
      "execution_count": 9,
      "outputs": [
        {
          "output_type": "stream",
          "name": "stdout",
          "text": [
            "WARNING:tensorflow:From /tensorflow-1.15.2/python3.7/tensorflow_core/python/ops/resource_variable_ops.py:1630: calling BaseResourceVariable.__init__ (from tensorflow.python.ops.resource_variable_ops) with constraint is deprecated and will be removed in a future version.\n",
            "Instructions for updating:\n",
            "If using Keras pass *_constraint arguments to layers.\n",
            "WARNING:tensorflow:From /tensorflow-1.15.2/python3.7/keras/backend/tensorflow_backend.py:422: The name tf.global_variables is deprecated. Please use tf.compat.v1.global_variables instead.\n",
            "\n",
            "Train on 60000 samples, validate on 10000 samples\n",
            "Epoch 1/50\n",
            "60000/60000 [==============================] - 3s 42us/step - loss: 0.3477 - accuracy: 0.9061 - val_loss: 0.2539 - val_accuracy: 0.9539\n",
            "Epoch 2/50\n",
            "60000/60000 [==============================] - 2s 32us/step - loss: 0.1107 - accuracy: 0.9670 - val_loss: 0.1018 - val_accuracy: 0.9681\n",
            "Epoch 3/50\n",
            "60000/60000 [==============================] - 2s 32us/step - loss: 0.0721 - accuracy: 0.9785 - val_loss: 0.0809 - val_accuracy: 0.9748\n",
            "Epoch 4/50\n",
            "60000/60000 [==============================] - 2s 32us/step - loss: 0.0515 - accuracy: 0.9845 - val_loss: 0.0823 - val_accuracy: 0.9739\n",
            "Epoch 5/50\n",
            "60000/60000 [==============================] - 2s 32us/step - loss: 0.0393 - accuracy: 0.9884 - val_loss: 0.0775 - val_accuracy: 0.9774\n",
            "Epoch 6/50\n",
            "60000/60000 [==============================] - 2s 32us/step - loss: 0.0296 - accuracy: 0.9913 - val_loss: 0.0788 - val_accuracy: 0.9771\n",
            "Epoch 7/50\n",
            "60000/60000 [==============================] - 2s 32us/step - loss: 0.0241 - accuracy: 0.9927 - val_loss: 0.0821 - val_accuracy: 0.9748\n",
            "Epoch 8/50\n",
            "60000/60000 [==============================] - 2s 31us/step - loss: 0.0205 - accuracy: 0.9938 - val_loss: 0.0855 - val_accuracy: 0.9743\n",
            "Epoch 9/50\n",
            "60000/60000 [==============================] - 2s 31us/step - loss: 0.0179 - accuracy: 0.9944 - val_loss: 0.0901 - val_accuracy: 0.9736\n",
            "Epoch 10/50\n",
            "60000/60000 [==============================] - 2s 32us/step - loss: 0.0128 - accuracy: 0.9961 - val_loss: 0.0747 - val_accuracy: 0.9779\n",
            "Epoch 11/50\n",
            "60000/60000 [==============================] - 2s 33us/step - loss: 0.0120 - accuracy: 0.9962 - val_loss: 0.0838 - val_accuracy: 0.9765\n",
            "Epoch 12/50\n",
            "60000/60000 [==============================] - 2s 32us/step - loss: 0.0115 - accuracy: 0.9966 - val_loss: 0.0810 - val_accuracy: 0.9770\n",
            "Epoch 13/50\n",
            "60000/60000 [==============================] - 2s 32us/step - loss: 0.0121 - accuracy: 0.9959 - val_loss: 0.0913 - val_accuracy: 0.9748\n",
            "Epoch 14/50\n",
            "60000/60000 [==============================] - 2s 33us/step - loss: 0.0085 - accuracy: 0.9976 - val_loss: 0.0929 - val_accuracy: 0.9777\n",
            "Epoch 15/50\n",
            "60000/60000 [==============================] - 2s 32us/step - loss: 0.0072 - accuracy: 0.9979 - val_loss: 0.0840 - val_accuracy: 0.9776\n",
            "Epoch 16/50\n",
            "60000/60000 [==============================] - 2s 32us/step - loss: 0.0059 - accuracy: 0.9984 - val_loss: 0.0828 - val_accuracy: 0.9787\n",
            "Epoch 17/50\n",
            "60000/60000 [==============================] - 2s 32us/step - loss: 0.0083 - accuracy: 0.9973 - val_loss: 0.0891 - val_accuracy: 0.9758\n",
            "Epoch 18/50\n",
            "60000/60000 [==============================] - 2s 31us/step - loss: 0.0096 - accuracy: 0.9968 - val_loss: 0.1010 - val_accuracy: 0.9753\n",
            "Epoch 19/50\n",
            "60000/60000 [==============================] - 2s 32us/step - loss: 0.0092 - accuracy: 0.9970 - val_loss: 0.0892 - val_accuracy: 0.9785\n",
            "Epoch 20/50\n",
            "60000/60000 [==============================] - 2s 32us/step - loss: 0.0063 - accuracy: 0.9979 - val_loss: 0.0923 - val_accuracy: 0.9793\n",
            "Epoch 21/50\n",
            "60000/60000 [==============================] - 2s 33us/step - loss: 0.0065 - accuracy: 0.9981 - val_loss: 0.0947 - val_accuracy: 0.9774\n",
            "Epoch 22/50\n",
            "60000/60000 [==============================] - 2s 31us/step - loss: 0.0053 - accuracy: 0.9984 - val_loss: 0.1030 - val_accuracy: 0.9763\n",
            "Epoch 23/50\n",
            "60000/60000 [==============================] - 2s 32us/step - loss: 0.0053 - accuracy: 0.9985 - val_loss: 0.0979 - val_accuracy: 0.9765\n",
            "Epoch 24/50\n",
            "60000/60000 [==============================] - 2s 33us/step - loss: 0.0056 - accuracy: 0.9980 - val_loss: 0.1183 - val_accuracy: 0.9746\n",
            "Epoch 25/50\n",
            "60000/60000 [==============================] - 2s 32us/step - loss: 0.0055 - accuracy: 0.9983 - val_loss: 0.1066 - val_accuracy: 0.9761\n",
            "Epoch 26/50\n",
            "60000/60000 [==============================] - 2s 31us/step - loss: 0.0052 - accuracy: 0.9985 - val_loss: 0.1017 - val_accuracy: 0.9782\n",
            "Epoch 27/50\n",
            "60000/60000 [==============================] - 2s 32us/step - loss: 0.0034 - accuracy: 0.9989 - val_loss: 0.1004 - val_accuracy: 0.9789\n",
            "Epoch 28/50\n",
            "60000/60000 [==============================] - 2s 33us/step - loss: 0.0023 - accuracy: 0.9993 - val_loss: 0.1093 - val_accuracy: 0.9771\n",
            "Epoch 29/50\n",
            "60000/60000 [==============================] - 2s 32us/step - loss: 0.0051 - accuracy: 0.9982 - val_loss: 0.1200 - val_accuracy: 0.9735\n",
            "Epoch 30/50\n",
            "60000/60000 [==============================] - 2s 32us/step - loss: 0.0092 - accuracy: 0.9970 - val_loss: 0.1170 - val_accuracy: 0.9758\n",
            "Epoch 31/50\n",
            "60000/60000 [==============================] - 2s 32us/step - loss: 0.0069 - accuracy: 0.9977 - val_loss: 0.1103 - val_accuracy: 0.9762\n",
            "Epoch 32/50\n",
            "60000/60000 [==============================] - 2s 33us/step - loss: 0.0048 - accuracy: 0.9983 - val_loss: 0.1036 - val_accuracy: 0.9785\n",
            "Epoch 33/50\n",
            "60000/60000 [==============================] - 2s 32us/step - loss: 0.0046 - accuracy: 0.9985 - val_loss: 0.1138 - val_accuracy: 0.9777\n",
            "Epoch 34/50\n",
            "60000/60000 [==============================] - 2s 32us/step - loss: 0.0029 - accuracy: 0.9991 - val_loss: 0.0977 - val_accuracy: 0.9801\n",
            "Epoch 35/50\n",
            "60000/60000 [==============================] - 2s 32us/step - loss: 0.0024 - accuracy: 0.9992 - val_loss: 0.1033 - val_accuracy: 0.9790\n",
            "Epoch 36/50\n",
            "60000/60000 [==============================] - 2s 32us/step - loss: 0.0028 - accuracy: 0.9991 - val_loss: 0.0985 - val_accuracy: 0.9789\n",
            "Epoch 37/50\n",
            "60000/60000 [==============================] - 2s 33us/step - loss: 0.0028 - accuracy: 0.9991 - val_loss: 0.1039 - val_accuracy: 0.9792\n",
            "Epoch 38/50\n",
            "60000/60000 [==============================] - 2s 32us/step - loss: 0.0029 - accuracy: 0.9991 - val_loss: 0.1000 - val_accuracy: 0.9782\n",
            "Epoch 39/50\n",
            "60000/60000 [==============================] - 2s 33us/step - loss: 0.0043 - accuracy: 0.9987 - val_loss: 0.1149 - val_accuracy: 0.9764\n",
            "Epoch 40/50\n",
            "60000/60000 [==============================] - 2s 32us/step - loss: 0.0063 - accuracy: 0.9979 - val_loss: 0.1080 - val_accuracy: 0.9780\n",
            "Epoch 41/50\n",
            "60000/60000 [==============================] - 2s 32us/step - loss: 0.0056 - accuracy: 0.9980 - val_loss: 0.1079 - val_accuracy: 0.9783\n",
            "Epoch 42/50\n",
            "60000/60000 [==============================] - 2s 33us/step - loss: 0.0027 - accuracy: 0.9992 - val_loss: 0.1100 - val_accuracy: 0.9774\n",
            "Epoch 43/50\n",
            "60000/60000 [==============================] - 2s 32us/step - loss: 0.0020 - accuracy: 0.9994 - val_loss: 0.0998 - val_accuracy: 0.9801\n",
            "Epoch 44/50\n",
            "60000/60000 [==============================] - 2s 33us/step - loss: 0.0027 - accuracy: 0.9992 - val_loss: 0.1048 - val_accuracy: 0.9800\n",
            "Epoch 45/50\n",
            "60000/60000 [==============================] - 2s 33us/step - loss: 0.0023 - accuracy: 0.9993 - val_loss: 0.1141 - val_accuracy: 0.9784\n",
            "Epoch 46/50\n",
            "60000/60000 [==============================] - 2s 33us/step - loss: 0.0025 - accuracy: 0.9992 - val_loss: 0.1083 - val_accuracy: 0.9773\n",
            "Epoch 47/50\n",
            "60000/60000 [==============================] - 2s 32us/step - loss: 0.0043 - accuracy: 0.9985 - val_loss: 0.1309 - val_accuracy: 0.9744\n",
            "Epoch 48/50\n",
            "60000/60000 [==============================] - 2s 33us/step - loss: 0.0057 - accuracy: 0.9980 - val_loss: 0.1201 - val_accuracy: 0.9786\n",
            "Epoch 49/50\n",
            "60000/60000 [==============================] - 2s 32us/step - loss: 0.0044 - accuracy: 0.9987 - val_loss: 0.1083 - val_accuracy: 0.9794\n",
            "Epoch 50/50\n",
            "60000/60000 [==============================] - 2s 33us/step - loss: 0.0019 - accuracy: 0.9994 - val_loss: 0.0989 - val_accuracy: 0.9806\n"
          ]
        }
      ]
    },
    {
      "cell_type": "code",
      "metadata": {
        "colab": {
          "base_uri": "https://localhost:8080/",
          "height": 295
        },
        "id": "uOsXwFOvrs14",
        "outputId": "b4707d65-4738-4d7e-cf77-391a41f06956"
      },
      "source": [
        "#Plot loss vs epoch\n",
        "#FILL THIS IN\n",
        "plt.plot(attacker_meta_data.history['loss'])\n",
        "plt.plot(attacker_meta_data.history['val_loss'])\n",
        "plt.xlabel(\"Epochs\")\n",
        "plt.ylabel(\"Loss\")\n",
        "plt.title(\"Model Loss vs Epochs\")\n",
        "plt.grid(True)\n",
        "plt.legend(['train','val'],loc='upper left')\n",
        "plt.show()"
      ],
      "execution_count": 10,
      "outputs": [
        {
          "output_type": "display_data",
          "data": {
            "image/png": "[encoded data removed]",
            "text/plain": [
              "<Figure size 432x288 with 1 Axes>"
            ]
          },
          "metadata": {
            "needs_background": "light"
          }
        }
      ]
    },
    {
      "cell_type": "code",
      "metadata": {
        "colab": {
          "base_uri": "https://localhost:8080/",
          "height": 295
        },
        "id": "4C4mOVvSr4KP",
        "outputId": "1562a6e0-f27d-4517-93e9-b358b1a3676b"
      },
      "source": [
        "#Plot accuracy vs epoch\n",
        "#FILL THIS IN\n",
        "plt.plot(attacker_meta_data.history['accuracy'])\n",
        "plt.plot(attacker_meta_data.history['val_accuracy'])\n",
        "plt.xlabel(\"Epochs\")\n",
        "plt.ylabel(\"Accuracy\")\n",
        "plt.title(\"Model Accuracy vs Epochs\")\n",
        "plt.grid(True)\n",
        "plt.legend(['train','val'],loc='upper left')\n",
        "plt.show()"
      ],
      "execution_count": 11,
      "outputs": [
        {
          "output_type": "display_data",
          "data": {
            "image/png": "[encoded data removed]",
            "text/plain": [
              "<Figure size 432x288 with 1 Axes>"
            ]
          },
          "metadata": {
            "needs_background": "light"
          }
        }
      ]
    },
    {
      "cell_type": "code",
      "metadata": {
        "colab": {
          "base_uri": "https://localhost:8080/"
        },
        "id": "gr53zDpTr5wO",
        "outputId": "5291b4cb-0a27-4530-9736-a25406fbdafd"
      },
      "source": [
        "#Print accuracy of classifier on MNIST testing data\n",
        "#FILL THIS IN\n",
        "acc = attacker.evaluate(data_test_reshape,label_test)\n",
        "print(\"Accuracy of the classifier = %.2f%%\" %(acc[1]*100))"
      ],
      "execution_count": 12,
      "outputs": [
        {
          "output_type": "stream",
          "name": "stdout",
          "text": [
            "10000/10000 [==============================] - 0s 30us/step\n",
            "Accuracy of the classifier = 98.06%\n"
          ]
        }
      ]
    },
    {
      "cell_type": "code",
      "metadata": {
        "id": "YEcrqpjas3Xh"
      },
      "source": [
        "# Edit the classifier name fed into KerasModel Wrapper with the name of the \n",
        "# classifier from above and then run this block\n",
        "\n",
        "#Get TensorFlow Session to pass into Cleverhans modules\n",
        "sess = backend.get_session()\n",
        "\n",
        "#Create wrapper for classifier model so that it can be passed into Cleverhans modules\n",
        "wrap = KerasModelWrapper(attacker)"
      ],
      "execution_count": 13,
      "outputs": []
    },
    {
      "cell_type": "markdown",
      "metadata": {
        "id": "8_Ehc7tas5YS"
      },
      "source": [
        "### Part 2: The Fast Gradient Method (FGM)"
      ]
    },
    {
      "cell_type": "code",
      "metadata": {
        "colab": {
          "base_uri": "https://localhost:8080/"
        },
        "id": "GA5T9mkws9vJ",
        "outputId": "ef2a1a2c-46b2-42cf-a52c-ee213fa7ae54"
      },
      "source": [
        "# import tensorflow.compat.v1 as tf\n",
        "\n",
        "#Implementing the FGSM attack\n",
        "# backend.set_learning_phase(0)\n",
        "#FGM Instance on trained classifier from Part 1\n",
        "#FILL THIS IN\n",
        "fgm = FastGradientMethod(wrap,sess=sess)\n",
        "\n",
        "#Attack parameters\n",
        "#FILL THIS IN\n",
        "fgm_param = {'eps': 0.25,'clip_min' : 0.0, 'clip_max' : 1.0}\n",
        "\n",
        "#Generate adversarial data\n",
        "#FILL THIS IN\n",
        "adversial_test_data = fgm.generate_np(data_test_reshape, **fgm_param)\n",
        "#Evaluate accuracy on target classifier \n",
        "#FILL THIS IN\n",
        "acc = attacker.evaluate(adversial_test_data,label_test)\n",
        "print(\"Accuracy of the classifier with FGM= %.2f%%\" %(acc[1]*100))"
      ],
      "execution_count": 44,
      "outputs": [
        {
          "output_type": "stream",
          "name": "stdout",
          "text": [
            "10000/10000 [==============================] - 0s 33us/step\n",
            "Accuracy of the classifier with FGM= 6.62%\n"
          ]
        }
      ]
    },
    {
      "cell_type": "code",
      "metadata": {
        "id": "wE_rdYIrDeNZ",
        "colab": {
          "base_uri": "https://localhost:8080/",
          "height": 934
        },
        "outputId": "0d111161-5e23-4cd8-83e3-26acd94c5ed3"
      },
      "source": [
        "#Show ten original samples and their corresponding adversarial samples\n",
        "#FILL THIS IN\n",
        "r = 10\n",
        "c = 2\n",
        "fig = plt.figure(figsize = (8,16))\n",
        "plt.gray()\n",
        "ax = fig.add_subplot(1,2,1)\n",
        "ax.imshow(data_test_reshape[0:10].reshape(-1,28))\n",
        "ax.set_title('Original samples')\n",
        "ax.axis('off')\n",
        "\n",
        "ax = fig.add_subplot(1,2,2)\n",
        "ax.imshow(adversial_test_data[0:10].reshape(-1,28))\n",
        "ax.set_title('Adversarial samples')\n",
        "ax.axis('off')"
      ],
      "execution_count": 46,
      "outputs": [
        {
          "output_type": "execute_result",
          "data": {
            "text/plain": [
              "(-0.5, 27.5, 279.5, -0.5)"
            ]
          },
          "metadata": {},
          "execution_count": 46
        },
        {
          "output_type": "display_data",
          "data": {
            "image/png": "[encoded data removed]",
            "text/plain": [
              "<Figure size 576x1152 with 2 Axes>"
            ]
          },
          "metadata": {
            "needs_background": "light"
          }
        }
      ]
    },
    {
      "cell_type": "code",
      "metadata": {
        "colab": {
          "base_uri": "https://localhost:8080/"
        },
        "id": "qurgywiaJe-I",
        "outputId": "cd616b9f-b980-4b66-81d7-546e32cd832f"
      },
      "source": [
        "#Implementing Detection via Autoencoders\n",
        "\n",
        "def autoencoder():\n",
        "    ae = Sequential()\n",
        "    ae.add(Dense(400, activation=None, kernel_initializer=\"normal\", input_dim=784))\n",
        "    ae.add(Dense(200, activation=None, kernel_initializer='normal'))\n",
        "    ae.add(Dense(100, activation=None, kernel_initializer='normal'))\n",
        "    ae.add(Dense(200, activation=None, kernel_initializer='normal'))\n",
        "    ae.add(Dense(400, activation=None, kernel_initializer='normal'))\n",
        "    ae.add(Dense(784, activation='sigmoid', kernel_initializer='normal'))\n",
        "    return ae\n",
        "\n",
        "#Create and train the autoencoder using the mean squared error loss and adam optimizer\n",
        "#FILL THIS IN\n",
        "encoder = autoencoder()\n",
        "\n",
        "encoder.compile(loss=['mean_squared_error'],\n",
        "                      optimizer='adam',\n",
        "                      metrics=['accuracy'])\n",
        "\n",
        "encoder.fit(data_train_reshape, data_train_reshape,\n",
        "            batch_size = 256,\n",
        "            epochs = 50,\n",
        "            shuffle= True,\n",
        "            validation_data=(data_test_reshape,data_test_reshape))"
      ],
      "execution_count": 47,
      "outputs": [
        {
          "output_type": "stream",
          "name": "stdout",
          "text": [
            "Train on 60000 samples, validate on 10000 samples\n",
            "Epoch 1/50\n",
            "60000/60000 [==============================] - 10s 159us/step - loss: 0.0370 - accuracy: 0.0107 - val_loss: 0.0146 - val_accuracy: 0.0097\n",
            "Epoch 2/50\n",
            "60000/60000 [==============================] - 9s 146us/step - loss: 0.0117 - accuracy: 0.0120 - val_loss: 0.0090 - val_accuracy: 0.0124\n",
            "Epoch 3/50\n",
            "60000/60000 [==============================] - 9s 145us/step - loss: 0.0082 - accuracy: 0.0130 - val_loss: 0.0069 - val_accuracy: 0.0137\n",
            "Epoch 4/50\n",
            "60000/60000 [==============================] - 9s 144us/step - loss: 0.0066 - accuracy: 0.0127 - val_loss: 0.0057 - val_accuracy: 0.0112\n",
            "Epoch 5/50\n",
            "60000/60000 [==============================] - 9s 145us/step - loss: 0.0056 - accuracy: 0.0121 - val_loss: 0.0051 - val_accuracy: 0.0129\n",
            "Epoch 6/50\n",
            "60000/60000 [==============================] - 9s 145us/step - loss: 0.0050 - accuracy: 0.0128 - val_loss: 0.0045 - val_accuracy: 0.0132\n",
            "Epoch 7/50\n",
            "60000/60000 [==============================] - 9s 144us/step - loss: 0.0045 - accuracy: 0.0124 - val_loss: 0.0041 - val_accuracy: 0.0133\n",
            "Epoch 8/50\n",
            "60000/60000 [==============================] - 9s 144us/step - loss: 0.0040 - accuracy: 0.0132 - val_loss: 0.0037 - val_accuracy: 0.0125\n",
            "Epoch 9/50\n",
            "60000/60000 [==============================] - 9s 146us/step - loss: 0.0037 - accuracy: 0.0130 - val_loss: 0.0034 - val_accuracy: 0.0122\n",
            "Epoch 10/50\n",
            "60000/60000 [==============================] - 9s 147us/step - loss: 0.0035 - accuracy: 0.0128 - val_loss: 0.0032 - val_accuracy: 0.0115\n",
            "Epoch 11/50\n",
            "60000/60000 [==============================] - 9s 146us/step - loss: 0.0033 - accuracy: 0.0138 - val_loss: 0.0032 - val_accuracy: 0.0121\n",
            "Epoch 12/50\n",
            "60000/60000 [==============================] - 9s 144us/step - loss: 0.0031 - accuracy: 0.0137 - val_loss: 0.0030 - val_accuracy: 0.0137\n",
            "Epoch 13/50\n",
            "60000/60000 [==============================] - 9s 146us/step - loss: 0.0030 - accuracy: 0.0137 - val_loss: 0.0028 - val_accuracy: 0.0128\n",
            "Epoch 14/50\n",
            "60000/60000 [==============================] - 9s 147us/step - loss: 0.0028 - accuracy: 0.0132 - val_loss: 0.0027 - val_accuracy: 0.0130\n",
            "Epoch 15/50\n",
            "60000/60000 [==============================] - 9s 146us/step - loss: 0.0027 - accuracy: 0.0137 - val_loss: 0.0026 - val_accuracy: 0.0146\n",
            "Epoch 16/50\n",
            "60000/60000 [==============================] - 9s 146us/step - loss: 0.0026 - accuracy: 0.0141 - val_loss: 0.0025 - val_accuracy: 0.0138\n",
            "Epoch 17/50\n",
            "60000/60000 [==============================] - 9s 145us/step - loss: 0.0025 - accuracy: 0.0141 - val_loss: 0.0025 - val_accuracy: 0.0139\n",
            "Epoch 18/50\n",
            "60000/60000 [==============================] - 9s 144us/step - loss: 0.0024 - accuracy: 0.0138 - val_loss: 0.0024 - val_accuracy: 0.0146\n",
            "Epoch 19/50\n",
            "60000/60000 [==============================] - 9s 146us/step - loss: 0.0024 - accuracy: 0.0139 - val_loss: 0.0023 - val_accuracy: 0.0130\n",
            "Epoch 20/50\n",
            "60000/60000 [==============================] - 9s 146us/step - loss: 0.0023 - accuracy: 0.0140 - val_loss: 0.0023 - val_accuracy: 0.0147\n",
            "Epoch 21/50\n",
            "60000/60000 [==============================] - 9s 145us/step - loss: 0.0023 - accuracy: 0.0136 - val_loss: 0.0022 - val_accuracy: 0.0130\n",
            "Epoch 22/50\n",
            "60000/60000 [==============================] - 9s 143us/step - loss: 0.0022 - accuracy: 0.0138 - val_loss: 0.0022 - val_accuracy: 0.0129\n",
            "Epoch 23/50\n",
            "60000/60000 [==============================] - 9s 142us/step - loss: 0.0022 - accuracy: 0.0140 - val_loss: 0.0022 - val_accuracy: 0.0132\n",
            "Epoch 24/50\n",
            "60000/60000 [==============================] - 9s 143us/step - loss: 0.0022 - accuracy: 0.0141 - val_loss: 0.0021 - val_accuracy: 0.0146\n",
            "Epoch 25/50\n",
            "60000/60000 [==============================] - 9s 145us/step - loss: 0.0021 - accuracy: 0.0142 - val_loss: 0.0021 - val_accuracy: 0.0150\n",
            "Epoch 26/50\n",
            "60000/60000 [==============================] - 9s 153us/step - loss: 0.0021 - accuracy: 0.0143 - val_loss: 0.0021 - val_accuracy: 0.0131\n",
            "Epoch 27/50\n",
            "60000/60000 [==============================] - 10s 173us/step - loss: 0.0021 - accuracy: 0.0145 - val_loss: 0.0021 - val_accuracy: 0.0148\n",
            "Epoch 28/50\n",
            "60000/60000 [==============================] - 9s 145us/step - loss: 0.0021 - accuracy: 0.0136 - val_loss: 0.0021 - val_accuracy: 0.0159\n",
            "Epoch 29/50\n",
            "60000/60000 [==============================] - 9s 145us/step - loss: 0.0021 - accuracy: 0.0145 - val_loss: 0.0021 - val_accuracy: 0.0146\n",
            "Epoch 30/50\n",
            "60000/60000 [==============================] - 9s 145us/step - loss: 0.0020 - accuracy: 0.0137 - val_loss: 0.0020 - val_accuracy: 0.0134\n",
            "Epoch 31/50\n",
            "60000/60000 [==============================] - 9s 144us/step - loss: 0.0020 - accuracy: 0.0145 - val_loss: 0.0020 - val_accuracy: 0.0163\n",
            "Epoch 32/50\n",
            "60000/60000 [==============================] - 9s 143us/step - loss: 0.0020 - accuracy: 0.0143 - val_loss: 0.0020 - val_accuracy: 0.0140\n",
            "Epoch 33/50\n",
            "60000/60000 [==============================] - 9s 144us/step - loss: 0.0020 - accuracy: 0.0148 - val_loss: 0.0020 - val_accuracy: 0.0143\n",
            "Epoch 34/50\n",
            "60000/60000 [==============================] - 9s 143us/step - loss: 0.0020 - accuracy: 0.0142 - val_loss: 0.0020 - val_accuracy: 0.0140\n",
            "Epoch 35/50\n",
            "60000/60000 [==============================] - 9s 144us/step - loss: 0.0020 - accuracy: 0.0146 - val_loss: 0.0020 - val_accuracy: 0.0165\n",
            "Epoch 36/50\n",
            "60000/60000 [==============================] - 9s 145us/step - loss: 0.0020 - accuracy: 0.0144 - val_loss: 0.0020 - val_accuracy: 0.0154\n",
            "Epoch 37/50\n",
            "60000/60000 [==============================] - 9s 144us/step - loss: 0.0019 - accuracy: 0.0145 - val_loss: 0.0020 - val_accuracy: 0.0153\n",
            "Epoch 38/50\n",
            "60000/60000 [==============================] - 9s 144us/step - loss: 0.0019 - accuracy: 0.0144 - val_loss: 0.0020 - val_accuracy: 0.0161\n",
            "Epoch 39/50\n",
            "60000/60000 [==============================] - 9s 144us/step - loss: 0.0019 - accuracy: 0.0145 - val_loss: 0.0019 - val_accuracy: 0.0152\n",
            "Epoch 40/50\n",
            "60000/60000 [==============================] - 9s 145us/step - loss: 0.0019 - accuracy: 0.0145 - val_loss: 0.0020 - val_accuracy: 0.0130\n",
            "Epoch 41/50\n",
            "60000/60000 [==============================] - 9s 144us/step - loss: 0.0019 - accuracy: 0.0141 - val_loss: 0.0020 - val_accuracy: 0.0142\n",
            "Epoch 42/50\n",
            "60000/60000 [==============================] - 9s 145us/step - loss: 0.0019 - accuracy: 0.0144 - val_loss: 0.0019 - val_accuracy: 0.0139\n",
            "Epoch 43/50\n",
            "60000/60000 [==============================] - 9s 147us/step - loss: 0.0019 - accuracy: 0.0146 - val_loss: 0.0020 - val_accuracy: 0.0136\n",
            "Epoch 44/50\n",
            "60000/60000 [==============================] - 9s 146us/step - loss: 0.0019 - accuracy: 0.0145 - val_loss: 0.0020 - val_accuracy: 0.0133\n",
            "Epoch 45/50\n",
            "60000/60000 [==============================] - 9s 146us/step - loss: 0.0019 - accuracy: 0.0147 - val_loss: 0.0019 - val_accuracy: 0.0149\n",
            "Epoch 46/50\n",
            "60000/60000 [==============================] - 9s 147us/step - loss: 0.0019 - accuracy: 0.0140 - val_loss: 0.0019 - val_accuracy: 0.0150\n",
            "Epoch 47/50\n",
            "60000/60000 [==============================] - 9s 147us/step - loss: 0.0019 - accuracy: 0.0146 - val_loss: 0.0019 - val_accuracy: 0.0150\n",
            "Epoch 48/50\n",
            "60000/60000 [==============================] - 9s 144us/step - loss: 0.0019 - accuracy: 0.0147 - val_loss: 0.0019 - val_accuracy: 0.0144\n",
            "Epoch 49/50\n",
            "60000/60000 [==============================] - 9s 143us/step - loss: 0.0019 - accuracy: 0.0144 - val_loss: 0.0019 - val_accuracy: 0.0147\n",
            "Epoch 50/50\n",
            "60000/60000 [==============================] - 9s 146us/step - loss: 0.0019 - accuracy: 0.0143 - val_loss: 0.0019 - val_accuracy: 0.0141\n"
          ]
        },
        {
          "output_type": "execute_result",
          "data": {
            "text/plain": [
              "<keras.callbacks.callbacks.History at 0x7fae3651f750>"
            ]
          },
          "metadata": {},
          "execution_count": 47
        }
      ]
    },
    {
      "cell_type": "code",
      "metadata": {
        "id": "sGVPbCP_JvDo",
        "colab": {
          "base_uri": "https://localhost:8080/"
        },
        "outputId": "1396fecc-2973-496e-d13a-2981bb9c24ea"
      },
      "source": [
        "#Using the autoencoder for detection and to determine a threshold \n",
        "\n",
        "# Create adversarial examples using FGSM on training data\n",
        "#FILL THIS IN\n",
        "adversial_train_data = fgm.generate_np(data_train_reshape, **fgm_param)\n",
        "\n",
        "# Obtain reconstruction errors on training set and determine a threshold \n",
        "#FILL THIS IN\n",
        "fgm_reconstruct = encoder.predict(adversial_train_data)\n",
        "error = keras.losses.mean_squared_error(fgm_reconstruct,data_train_reshape)\n",
        "\n",
        "# Convert error tensor into NumPy array \n",
        "# CHANGE NAME 'error' TO WHAT YOU CALLED IT ABOVE\n",
        "error = error.eval(session=sess)\n",
        " # Determine threshold (based on min in this case) and print it \n",
        "#FILL THIS IN\n",
        "threshold = np.min(error)\n",
        "print(\"Threshold = %2f\"%(threshold))\n",
        "\n",
        "# Calculate error of adversarial testing set\n",
        "#FILL THIS IN\n",
        "fgm_reconstruct = encoder.predict(adversial_test_data)\n",
        "error= keras.losses.mean_squared_error(fgm_reconstruct, adversial_test_data)\n",
        "error = error.eval(session=sess)\n",
        "\n",
        "# Determine how many examples are above threshold and consider them adversarial\n",
        "# (true positive count)\n",
        "# Hint: Use a 'for' loop to compare each error value to the threshold\n",
        "#FILL THIS IN\n",
        "positive_count = np.size(np.where(error>threshold))\n",
        "\n",
        "# Print number of true positive samples\n",
        "#FILL THIS IN  \n",
        "print(\"Number of true positive samples = %d\"%(positive_count))\n",
        "\n",
        "# Determine false positives on benign testing set\n",
        "#FILL THIS IN \n",
        "fgm_reconstruct = encoder.predict(data_test_reshape)\n",
        "error = keras.losses.mean_squared_error(fgm_reconstruct,data_test_reshape)\n",
        "error = error.eval(session=sess)\n",
        "\n",
        "# Determine how many examples are above threshold and consider them adversarial\n",
        "# (false positive count)\n",
        "# Hint: Use a 'for' loop to compare each error value to the threshold\n",
        "#FILL THIS IN \n",
        "positive_count = np.size(np.where(error>threshold))\n",
        "\n",
        "# Print number of false positive samples\n",
        "#FILL THIS IN \n",
        "print(\"Number of false positive samples = %d\"%(positive_count))"
      ],
      "execution_count": 57,
      "outputs": [
        {
          "output_type": "stream",
          "name": "stdout",
          "text": [
            "Threshold = 0.005494\n",
            "Number of true positive samples = 10000\n",
            "Number of false positive samples = 132\n"
          ]
        }
      ]
    },
    {
      "cell_type": "markdown",
      "metadata": {
        "id": "VE2WG6LnP14d"
      },
      "source": [
        "#Part 3: Projected Gradient Descent"
      ]
    },
    {
      "cell_type": "code",
      "metadata": {
        "id": "iEkYKPN-P4Sj",
        "colab": {
          "base_uri": "https://localhost:8080/"
        },
        "outputId": "a7abd4a8-75cd-4af5-dff0-b279f7d8edfc"
      },
      "source": [
        "#Implementing the PGD attack\n",
        "\n",
        "#PGD Instance on trained classifier from Part 1\n",
        "pgd = MadryEtAl(wrap, sess=sess)\n",
        "\n",
        "#Attack parameters\n",
        "#FILL THIS IN\n",
        "pgd_param = {'eps': 0.25, 'eps_iter':0.01, 'nb_iter':20, 'clip_min':0.0,'clip_max':1.0}\n",
        "\n",
        "#Generate adversarial data\n",
        "#FILL THIS IN\n",
        "pgd_data = pgd.generate_np(data_test_reshape,**pgd_param)\n",
        "\n",
        "#Evaluate accuracy of perturbed data on target classifier\n",
        "#FILL THIS IN\n",
        "acc = attacker.evaluate(pgd_data, label_test)\n",
        "print(\"Accuracy with Projected Gradient Descent =  %2f%%\"%(acc[1]*100))"
      ],
      "execution_count": 14,
      "outputs": [
        {
          "output_type": "stream",
          "name": "stdout",
          "text": [
            "WARNING:tensorflow:From /usr/local/lib/python3.7/dist-packages/cleverhans/utils_tf.py:368: The name tf.GraphKeys is deprecated. Please use tf.compat.v1.GraphKeys instead.\n",
            "\n",
            "WARNING:tensorflow:From /usr/local/lib/python3.7/dist-packages/cleverhans/attacks.py:113: The name tf.placeholder is deprecated. Please use tf.compat.v1.placeholder instead.\n",
            "\n",
            "WARNING:tensorflow:From /usr/local/lib/python3.7/dist-packages/cleverhans/attacks.py:216: calling reduce_max_v1 (from tensorflow.python.ops.math_ops) with keep_dims is deprecated and will be removed in a future version.\n",
            "Instructions for updating:\n",
            "keep_dims is deprecated, use keepdims instead\n",
            "WARNING:tensorflow:From /usr/local/lib/python3.7/dist-packages/cleverhans/attacks.py:218: to_float (from tensorflow.python.ops.math_ops) is deprecated and will be removed in a future version.\n",
            "Instructions for updating:\n",
            "Use `tf.cast` instead.\n",
            "WARNING:tensorflow:From /usr/local/lib/python3.7/dist-packages/cleverhans/attacks.py:1387: The name tf.random_uniform is deprecated. Please use tf.random.uniform instead.\n",
            "\n",
            "WARNING:tensorflow:From /usr/local/lib/python3.7/dist-packages/cleverhans/utils_tf.py:37: softmax_cross_entropy_with_logits (from tensorflow.python.ops.nn_ops) is deprecated and will be removed in a future version.\n",
            "Instructions for updating:\n",
            "\n",
            "Future major versions of TensorFlow will allow gradients to flow\n",
            "into the labels input on backprop by default.\n",
            "\n",
            "See `tf.nn.softmax_cross_entropy_with_logits_v2`.\n",
            "\n",
            "10000/10000 [==============================] - 0s 28us/step\n",
            "Accuracy with Projected Gradient Descent =  1.090000%\n"
          ]
        }
      ]
    },
    {
      "cell_type": "code",
      "metadata": {
        "id": "urEHSPQISer1",
        "colab": {
          "base_uri": "https://localhost:8080/",
          "height": 934
        },
        "outputId": "1e2ccc9a-0acf-41eb-b343-60a064d90474"
      },
      "source": [
        "#Show ten original samples and their corresponding adversarial samples\n",
        "#FILL THIS IN \n",
        "r = 10\n",
        "c = 2\n",
        "fig = plt.figure(figsize = (8,16))\n",
        "plt.gray()\n",
        "ax = fig.add_subplot(1,2,1)\n",
        "ax.imshow(data_test_reshape[0:10].reshape(-1,28))\n",
        "ax.set_title('Original samples')\n",
        "ax.axis('off')\n",
        "\n",
        "ax = fig.add_subplot(1,2,2)\n",
        "ax.imshow(pgd_data[0:10].reshape(-1,28))\n",
        "ax.set_title('Adversarial samples')\n",
        "ax.axis('off')"
      ],
      "execution_count": 15,
      "outputs": [
        {
          "output_type": "execute_result",
          "data": {
            "text/plain": [
              "(-0.5, 27.5, 279.5, -0.5)"
            ]
          },
          "metadata": {},
          "execution_count": 15
        },
        {
          "output_type": "display_data",
          "data": {
            "image/png": "[encoded data removed]",
            "text/plain": [
              "<Figure size 576x1152 with 2 Axes>"
            ]
          },
          "metadata": {
            "needs_background": "light"
          }
        }
      ]
    },
    {
      "cell_type": "code",
      "metadata": {
        "id": "gTygGikdUWU8",
        "colab": {
          "base_uri": "https://localhost:8080/"
        },
        "outputId": "29bfbdf4-5fab-4bec-ca98-5b5e1ee40bb8"
      },
      "source": [
        "#Implementing the adversarial training defense\n",
        "#FILL THIS IN\n",
        "pgd_train_data = pgd.generate_np(data_train_reshape,**pgd_param)\n",
        "\n",
        "\n",
        "adv_trained_clf  = target()\n",
        "\n",
        "# Array to save training history\n",
        "adv_trained_clf.compile(loss = 'categorical_crossentropy',\n",
        "                 optimizer = 'adam',\n",
        "                 metrics = ['accuracy'])\n",
        "\n",
        "adv_trained_clf_meta_data= adv_trained_clf.fit(np.concatenate([data_train_reshape,pgd_train_data]),np.concatenate([label_train,label_train]),\n",
        "                                  batch_size = 256,\n",
        "                                  epochs = 50,\n",
        "                                  shuffle = True,\n",
        "                                  validation_data = (pgd_data,label_test))"
      ],
      "execution_count": 16,
      "outputs": [
        {
          "output_type": "stream",
          "name": "stdout",
          "text": [
            "Train on 120000 samples, validate on 10000 samples\n",
            "Epoch 1/50\n",
            "120000/120000 [==============================] - 4s 36us/step - loss: 0.2104 - accuracy: 0.9438 - val_loss: 0.1172 - val_accuracy: 0.9773\n",
            "Epoch 2/50\n",
            "120000/120000 [==============================] - 4s 32us/step - loss: 0.0602 - accuracy: 0.9820 - val_loss: 0.1225 - val_accuracy: 0.9778\n",
            "Epoch 3/50\n",
            "120000/120000 [==============================] - 4s 31us/step - loss: 0.0409 - accuracy: 0.9874 - val_loss: 0.1233 - val_accuracy: 0.9794\n",
            "Epoch 4/50\n",
            "120000/120000 [==============================] - 4s 31us/step - loss: 0.0297 - accuracy: 0.9909 - val_loss: 0.1368 - val_accuracy: 0.9789\n",
            "Epoch 5/50\n",
            "120000/120000 [==============================] - 4s 31us/step - loss: 0.0230 - accuracy: 0.9930 - val_loss: 0.1400 - val_accuracy: 0.9777\n",
            "Epoch 6/50\n",
            "120000/120000 [==============================] - 4s 32us/step - loss: 0.0186 - accuracy: 0.9940 - val_loss: 0.1393 - val_accuracy: 0.9786\n",
            "Epoch 7/50\n",
            "120000/120000 [==============================] - 4s 31us/step - loss: 0.0161 - accuracy: 0.9946 - val_loss: 0.1382 - val_accuracy: 0.9796\n",
            "Epoch 8/50\n",
            "120000/120000 [==============================] - 4s 31us/step - loss: 0.0120 - accuracy: 0.9963 - val_loss: 0.1488 - val_accuracy: 0.9779\n",
            "Epoch 9/50\n",
            "120000/120000 [==============================] - 4s 31us/step - loss: 0.0110 - accuracy: 0.9966 - val_loss: 0.1532 - val_accuracy: 0.9790\n",
            "Epoch 10/50\n",
            "120000/120000 [==============================] - 4s 31us/step - loss: 0.0109 - accuracy: 0.9964 - val_loss: 0.1437 - val_accuracy: 0.9796\n",
            "Epoch 11/50\n",
            "120000/120000 [==============================] - 4s 32us/step - loss: 0.0094 - accuracy: 0.9969 - val_loss: 0.1545 - val_accuracy: 0.9792\n",
            "Epoch 12/50\n",
            "120000/120000 [==============================] - 4s 32us/step - loss: 0.0088 - accuracy: 0.9970 - val_loss: 0.1643 - val_accuracy: 0.9783\n",
            "Epoch 13/50\n",
            "120000/120000 [==============================] - 4s 32us/step - loss: 0.0084 - accuracy: 0.9971 - val_loss: 0.1494 - val_accuracy: 0.9778\n",
            "Epoch 14/50\n",
            "120000/120000 [==============================] - 4s 32us/step - loss: 0.0064 - accuracy: 0.9977 - val_loss: 0.1620 - val_accuracy: 0.9787\n",
            "Epoch 15/50\n",
            "120000/120000 [==============================] - 4s 32us/step - loss: 0.0064 - accuracy: 0.9980 - val_loss: 0.1612 - val_accuracy: 0.9798\n",
            "Epoch 16/50\n",
            "120000/120000 [==============================] - 4s 31us/step - loss: 0.0059 - accuracy: 0.9980 - val_loss: 0.1691 - val_accuracy: 0.9791\n",
            "Epoch 17/50\n",
            "120000/120000 [==============================] - 4s 31us/step - loss: 0.0061 - accuracy: 0.9980 - val_loss: 0.1677 - val_accuracy: 0.9798\n",
            "Epoch 18/50\n",
            "120000/120000 [==============================] - 4s 32us/step - loss: 0.0059 - accuracy: 0.9980 - val_loss: 0.1614 - val_accuracy: 0.9792\n",
            "Epoch 19/50\n",
            "120000/120000 [==============================] - 4s 31us/step - loss: 0.0042 - accuracy: 0.9987 - val_loss: 0.1585 - val_accuracy: 0.9806\n",
            "Epoch 20/50\n",
            "120000/120000 [==============================] - 4s 32us/step - loss: 0.0064 - accuracy: 0.9978 - val_loss: 0.1749 - val_accuracy: 0.9787\n",
            "Epoch 21/50\n",
            "120000/120000 [==============================] - 4s 32us/step - loss: 0.0044 - accuracy: 0.9986 - val_loss: 0.1729 - val_accuracy: 0.9797\n",
            "Epoch 22/50\n",
            "120000/120000 [==============================] - 4s 31us/step - loss: 0.0033 - accuracy: 0.9990 - val_loss: 0.1658 - val_accuracy: 0.9802\n",
            "Epoch 23/50\n",
            "120000/120000 [==============================] - 4s 31us/step - loss: 0.0033 - accuracy: 0.9991 - val_loss: 0.1704 - val_accuracy: 0.9805\n",
            "Epoch 24/50\n",
            "120000/120000 [==============================] - 4s 32us/step - loss: 0.0041 - accuracy: 0.9989 - val_loss: 0.1787 - val_accuracy: 0.9802\n",
            "Epoch 25/50\n",
            "120000/120000 [==============================] - 4s 32us/step - loss: 0.0061 - accuracy: 0.9979 - val_loss: 0.1853 - val_accuracy: 0.9800\n",
            "Epoch 26/50\n",
            "120000/120000 [==============================] - 4s 32us/step - loss: 0.0038 - accuracy: 0.9987 - val_loss: 0.1719 - val_accuracy: 0.9807\n",
            "Epoch 27/50\n",
            "120000/120000 [==============================] - 4s 32us/step - loss: 0.0040 - accuracy: 0.9987 - val_loss: 0.1803 - val_accuracy: 0.9802\n",
            "Epoch 28/50\n",
            "120000/120000 [==============================] - 4s 32us/step - loss: 0.0024 - accuracy: 0.9993 - val_loss: 0.1940 - val_accuracy: 0.9798\n",
            "Epoch 29/50\n",
            "120000/120000 [==============================] - 4s 32us/step - loss: 0.0040 - accuracy: 0.9987 - val_loss: 0.1795 - val_accuracy: 0.9808\n",
            "Epoch 30/50\n",
            "120000/120000 [==============================] - 4s 33us/step - loss: 0.0028 - accuracy: 0.9991 - val_loss: 0.1847 - val_accuracy: 0.9801\n",
            "Epoch 31/50\n",
            "120000/120000 [==============================] - 4s 32us/step - loss: 0.0033 - accuracy: 0.9989 - val_loss: 0.1859 - val_accuracy: 0.9792\n",
            "Epoch 32/50\n",
            "120000/120000 [==============================] - 4s 33us/step - loss: 0.0024 - accuracy: 0.9992 - val_loss: 0.1845 - val_accuracy: 0.9805\n",
            "Epoch 33/50\n",
            "120000/120000 [==============================] - 4s 33us/step - loss: 0.0040 - accuracy: 0.9987 - val_loss: 0.1893 - val_accuracy: 0.9788\n",
            "Epoch 34/50\n",
            "120000/120000 [==============================] - 4s 34us/step - loss: 0.0025 - accuracy: 0.9991 - val_loss: 0.1853 - val_accuracy: 0.9810\n",
            "Epoch 35/50\n",
            "120000/120000 [==============================] - 4s 34us/step - loss: 0.0031 - accuracy: 0.9990 - val_loss: 0.1973 - val_accuracy: 0.9793\n",
            "Epoch 36/50\n",
            "120000/120000 [==============================] - 4s 34us/step - loss: 0.0035 - accuracy: 0.9988 - val_loss: 0.1937 - val_accuracy: 0.9802\n",
            "Epoch 37/50\n",
            "120000/120000 [==============================] - 4s 34us/step - loss: 0.0024 - accuracy: 0.9992 - val_loss: 0.1882 - val_accuracy: 0.9800\n",
            "Epoch 38/50\n",
            "120000/120000 [==============================] - 4s 34us/step - loss: 0.0029 - accuracy: 0.9990 - val_loss: 0.1771 - val_accuracy: 0.9807\n",
            "Epoch 39/50\n",
            "120000/120000 [==============================] - 4s 34us/step - loss: 0.0030 - accuracy: 0.9990 - val_loss: 0.1824 - val_accuracy: 0.9806\n",
            "Epoch 40/50\n",
            "120000/120000 [==============================] - 4s 33us/step - loss: 0.0017 - accuracy: 0.9995 - val_loss: 0.1808 - val_accuracy: 0.9797\n",
            "Epoch 41/50\n",
            "120000/120000 [==============================] - 4s 33us/step - loss: 0.0020 - accuracy: 0.9994 - val_loss: 0.1953 - val_accuracy: 0.9802\n",
            "Epoch 42/50\n",
            "120000/120000 [==============================] - 4s 33us/step - loss: 0.0030 - accuracy: 0.9990 - val_loss: 0.1945 - val_accuracy: 0.9800\n",
            "Epoch 43/50\n",
            "120000/120000 [==============================] - 4s 33us/step - loss: 0.0023 - accuracy: 0.9992 - val_loss: 0.1983 - val_accuracy: 0.9793\n",
            "Epoch 44/50\n",
            "120000/120000 [==============================] - 4s 34us/step - loss: 0.0025 - accuracy: 0.9991 - val_loss: 0.1916 - val_accuracy: 0.9811\n",
            "Epoch 45/50\n",
            "120000/120000 [==============================] - 4s 34us/step - loss: 0.0019 - accuracy: 0.9994 - val_loss: 0.1891 - val_accuracy: 0.9803\n",
            "Epoch 46/50\n",
            "120000/120000 [==============================] - 4s 33us/step - loss: 0.0028 - accuracy: 0.9990 - val_loss: 0.1946 - val_accuracy: 0.9786\n",
            "Epoch 47/50\n",
            "120000/120000 [==============================] - 4s 31us/step - loss: 0.0026 - accuracy: 0.9992 - val_loss: 0.1992 - val_accuracy: 0.9803\n",
            "Epoch 48/50\n",
            "120000/120000 [==============================] - 4s 32us/step - loss: 0.0014 - accuracy: 0.9996 - val_loss: 0.1911 - val_accuracy: 0.9812\n",
            "Epoch 49/50\n",
            "120000/120000 [==============================] - 4s 32us/step - loss: 0.0018 - accuracy: 0.9994 - val_loss: 0.2004 - val_accuracy: 0.9795\n",
            "Epoch 50/50\n",
            "120000/120000 [==============================] - 4s 32us/step - loss: 0.0018 - accuracy: 0.9994 - val_loss: 0.1957 - val_accuracy: 0.9801\n"
          ]
        }
      ]
    },
    {
      "cell_type": "code",
      "metadata": {
        "id": "i6dMEXGBUlci",
        "colab": {
          "base_uri": "https://localhost:8080/"
        },
        "outputId": "14b1a192-445c-4f8d-ed13-ab25e2857530"
      },
      "source": [
        "#Using the defense to evaluate the accuracy of the perturbed data\n",
        "#FILL THIS IN \n",
        "acc = adv_trained_clf.evaluate(pgd_data,label_test)\n",
        "print(\"Accuracy of the classifier with Advanced Defense= %.2f%%\" %(acc[1]*100))"
      ],
      "execution_count": 19,
      "outputs": [
        {
          "output_type": "stream",
          "name": "stdout",
          "text": [
            "10000/10000 [==============================] - 0s 29us/step\n",
            "Accuracy of the classifier with Advanced Defense= 98.01%\n"
          ]
        }
      ]
    },
    {
      "cell_type": "markdown",
      "metadata": {
        "id": "MqIEiMdar_5q"
      },
      "source": [
        "#Part 4: Carlini and Wagner Attack"
      ]
    },
    {
      "cell_type": "code",
      "metadata": {
        "id": "oyyNb-v5sCY6",
        "colab": {
          "base_uri": "https://localhost:8080/"
        },
        "outputId": "9cdec6dd-60ea-472b-833b-773639fa3a98"
      },
      "source": [
        "#Implementing the CW attack\n",
        "\n",
        "#CW Instance on trained classifier from Part 1\n",
        "#FILL THIS IN\n",
        "cw = CarliniWagnerL2(wrap, sess=sess)\n",
        "\n",
        "#Attack parameters\n",
        "#FILL THIS IN\n",
        "cw_params = {'binary_search_steps': 1, 'y': None, 'learning_rate': 1.25, 'batch_size': 16, \n",
        "             'initial_const': 10, 'clip_min': 0.0, 'clip_max': 1.0}\n",
        "\n",
        "#Generate adversarial data\n",
        "#FILL THIS IN\n",
        "cw_test_data = cw.generate_np(data_test_reshape,**cw_params)\n",
        "\n",
        "#Evaluate accuracy of perturbed data on target classifier\n",
        "#FILL THIS IN\n",
        "acc = attacker.evaluate(cw_test_data,label_test)\n",
        "print(\"Accuracy of the classifier with CW= %.2f%%\" %(acc[1]*100))"
      ],
      "execution_count": 20,
      "outputs": [
        {
          "output_type": "stream",
          "name": "stdout",
          "text": [
            "WARNING:tensorflow:From /usr/local/lib/python3.7/dist-packages/cleverhans/attacks_tf.py:725: The name tf.train.AdamOptimizer is deprecated. Please use tf.compat.v1.train.AdamOptimizer instead.\n",
            "\n",
            "WARNING:tensorflow:From /tensorflow-1.15.2/python3.7/tensorflow_core/python/ops/math_grad.py:1424: where (from tensorflow.python.ops.array_ops) is deprecated and will be removed in a future version.\n",
            "Instructions for updating:\n",
            "Use tf.where in 2.0, which has the same broadcast rule as np.where\n",
            "WARNING:tensorflow:From /usr/local/lib/python3.7/dist-packages/cleverhans/attacks_tf.py:736: The name tf.variables_initializer is deprecated. Please use tf.compat.v1.variables_initializer instead.\n",
            "\n",
            "WARNING:tensorflow:From /usr/local/lib/python3.7/dist-packages/cleverhans/attacks.py:909: py_func (from tensorflow.python.ops.script_ops) is deprecated and will be removed in a future version.\n",
            "Instructions for updating:\n",
            "tf.py_func is deprecated in TF V2. Instead, there are two\n",
            "    options available in V2.\n",
            "    - tf.py_function takes a python function which manipulates tf eager\n",
            "    tensors instead of numpy arrays. It's easy to convert a tf eager tensor to\n",
            "    an ndarray (just call tensor.numpy()) but having access to eager tensors\n",
            "    means `tf.py_function`s can use accelerators such as GPUs as well as\n",
            "    being differentiable using a gradient tape.\n",
            "    - tf.numpy_function maintains the semantics of the deprecated tf.py_func\n",
            "    (it is not differentiable, and manipulates numpy arrays). It drops the\n",
            "    stateful argument making all functions stateful.\n",
            "    \n",
            "10000/10000 [==============================] - 0s 28us/step\n",
            "Accuracy of the classifier with CW= 1.36%\n"
          ]
        }
      ]
    },
    {
      "cell_type": "code",
      "metadata": {
        "id": "rlEMqrlPurRL",
        "colab": {
          "base_uri": "https://localhost:8080/",
          "height": 934
        },
        "outputId": "f763a216-1d2f-4011-dbc2-2371382b144b"
      },
      "source": [
        "#Show ten original samples and their corresponding adversarial samples\n",
        "#FILL THIS IN \n",
        "r = 10\n",
        "c = 2\n",
        "fig = plt.figure(figsize = (8,16))\n",
        "plt.gray()\n",
        "ax = fig.add_subplot(1,2,1)\n",
        "ax.imshow(data_test_reshape[0:10].reshape(-1,28))\n",
        "ax.set_title('Original samples')\n",
        "ax.axis('off')\n",
        "\n",
        "ax = fig.add_subplot(1,2,2)\n",
        "ax.imshow(cw_test_data[0:10].reshape(-1,28))\n",
        "ax.set_title('Adversarial samples')\n",
        "ax.axis('off')"
      ],
      "execution_count": 21,
      "outputs": [
        {
          "output_type": "execute_result",
          "data": {
            "text/plain": [
              "(-0.5, 27.5, 279.5, -0.5)"
            ]
          },
          "metadata": {},
          "execution_count": 21
        },
        {
          "output_type": "display_data",
          "data": {
            "image/png": "[encoded data removed]",
            "text/plain": [
              "<Figure size 576x1152 with 2 Axes>"
            ]
          },
          "metadata": {
            "needs_background": "light"
          }
        }
      ]
    },
    {
      "cell_type": "code",
      "metadata": {
        "id": "kPnhcJUe-SLS"
      },
      "source": [
        "#Implementing the dimensionality reduction (PCA) defense \n",
        "\n",
        "#Calculate PCA projection\n",
        "pca = PCA(100)\n",
        "pca.fit(data_train_reshape)\n",
        "pca_train = pca.transform(data_train_reshape)\n",
        "pca_test = pca.transform(data_test_reshape)\n",
        "\n",
        "#Transform perturbed CW data using the subspace from the original training data\n",
        "#FILL THIS IN \n",
        "pca_cw_test = pca.transform(cw_test_data)"
      ],
      "execution_count": 28,
      "outputs": []
    },
    {
      "cell_type": "code",
      "metadata": {
        "id": "P-VhQHQ2uvmV",
        "colab": {
          "base_uri": "https://localhost:8080/"
        },
        "outputId": "5813dc53-61e6-477d-d5e4-335c6f5d7e6f"
      },
      "source": [
        "# create model for PCA\n",
        "def pca_model():\n",
        "    model = Sequential()\n",
        "    \n",
        "    #FILL THIS IN\n",
        "    model.add(Dense(units = 100, activation='relu',input_dim=100))\n",
        "    model.add(BatchNormalization())\n",
        "    model.add(Dense(units = 100, activation='relu'))\n",
        "    model.add(BatchNormalization())\n",
        "    model.add(Dense(units = 10, activation='softmax'))\n",
        "\n",
        "    return model\n",
        "\n",
        "#Create model graph, compile it, and train it using pca_train lables_train \n",
        "#FILL THIS IN \n",
        "#Compile the target\n",
        "pca_defence = pca_model()\n",
        "\n",
        "# Array to save training history\n",
        "pca_defence.compile(loss = 'categorical_crossentropy',\n",
        "                 optimizer = 'adam',\n",
        "                 metrics = ['accuracy'])\n",
        "\n",
        "pca_defence_meta_data= pca_defence.fit(pca_train,label_train,\n",
        "                                  batch_size = 256,\n",
        "                                  epochs = 50,\n",
        "                                  shuffle = True,\n",
        "                                  validation_data = (pca_test,label_test))\n",
        "    "
      ],
      "execution_count": 23,
      "outputs": [
        {
          "output_type": "stream",
          "name": "stdout",
          "text": [
            "WARNING:tensorflow:From /tensorflow-1.15.2/python3.7/keras/backend/tensorflow_backend.py:431: The name tf.is_variable_initialized is deprecated. Please use tf.compat.v1.is_variable_initialized instead.\n",
            "\n",
            "Train on 60000 samples, validate on 10000 samples\n",
            "Epoch 1/50\n",
            "60000/60000 [==============================] - 2s 28us/step - loss: 0.5001 - accuracy: 0.8510 - val_loss: 0.2218 - val_accuracy: 0.9440\n",
            "Epoch 2/50\n",
            "60000/60000 [==============================] - 1s 17us/step - loss: 0.1575 - accuracy: 0.9550 - val_loss: 0.1293 - val_accuracy: 0.9621\n",
            "Epoch 3/50\n",
            "60000/60000 [==============================] - 1s 17us/step - loss: 0.1053 - accuracy: 0.9693 - val_loss: 0.1028 - val_accuracy: 0.9702\n",
            "Epoch 4/50\n",
            "60000/60000 [==============================] - 1s 17us/step - loss: 0.0774 - accuracy: 0.9778 - val_loss: 0.0908 - val_accuracy: 0.9734\n",
            "Epoch 5/50\n",
            "60000/60000 [==============================] - 1s 17us/step - loss: 0.0599 - accuracy: 0.9827 - val_loss: 0.0833 - val_accuracy: 0.9755\n",
            "Epoch 6/50\n",
            "60000/60000 [==============================] - 1s 17us/step - loss: 0.0481 - accuracy: 0.9862 - val_loss: 0.0775 - val_accuracy: 0.9772\n",
            "Epoch 7/50\n",
            "60000/60000 [==============================] - 1s 17us/step - loss: 0.0379 - accuracy: 0.9896 - val_loss: 0.0797 - val_accuracy: 0.9762\n",
            "Epoch 8/50\n",
            "60000/60000 [==============================] - 1s 17us/step - loss: 0.0313 - accuracy: 0.9919 - val_loss: 0.0781 - val_accuracy: 0.9770\n",
            "Epoch 9/50\n",
            "60000/60000 [==============================] - 1s 17us/step - loss: 0.0261 - accuracy: 0.9932 - val_loss: 0.0776 - val_accuracy: 0.9774\n",
            "Epoch 10/50\n",
            "60000/60000 [==============================] - 1s 17us/step - loss: 0.0202 - accuracy: 0.9948 - val_loss: 0.0746 - val_accuracy: 0.9776\n",
            "Epoch 11/50\n",
            "60000/60000 [==============================] - 1s 17us/step - loss: 0.0174 - accuracy: 0.9958 - val_loss: 0.0776 - val_accuracy: 0.9780\n",
            "Epoch 12/50\n",
            "60000/60000 [==============================] - 1s 17us/step - loss: 0.0148 - accuracy: 0.9962 - val_loss: 0.0769 - val_accuracy: 0.9792\n",
            "Epoch 13/50\n",
            "60000/60000 [==============================] - 1s 17us/step - loss: 0.0117 - accuracy: 0.9976 - val_loss: 0.0794 - val_accuracy: 0.9775\n",
            "Epoch 14/50\n",
            "60000/60000 [==============================] - 1s 17us/step - loss: 0.0106 - accuracy: 0.9977 - val_loss: 0.0850 - val_accuracy: 0.9763\n",
            "Epoch 15/50\n",
            "60000/60000 [==============================] - 1s 17us/step - loss: 0.0099 - accuracy: 0.9977 - val_loss: 0.0860 - val_accuracy: 0.9772\n",
            "Epoch 16/50\n",
            "60000/60000 [==============================] - 1s 17us/step - loss: 0.0094 - accuracy: 0.9978 - val_loss: 0.0873 - val_accuracy: 0.9754\n",
            "Epoch 17/50\n",
            "60000/60000 [==============================] - 1s 17us/step - loss: 0.0083 - accuracy: 0.9981 - val_loss: 0.0814 - val_accuracy: 0.9774\n",
            "Epoch 18/50\n",
            "60000/60000 [==============================] - 1s 17us/step - loss: 0.0072 - accuracy: 0.9984 - val_loss: 0.0838 - val_accuracy: 0.9771\n",
            "Epoch 19/50\n",
            "60000/60000 [==============================] - 1s 17us/step - loss: 0.0069 - accuracy: 0.9983 - val_loss: 0.0915 - val_accuracy: 0.9761\n",
            "Epoch 20/50\n",
            "60000/60000 [==============================] - 1s 17us/step - loss: 0.0077 - accuracy: 0.9978 - val_loss: 0.0893 - val_accuracy: 0.9776\n",
            "Epoch 21/50\n",
            "60000/60000 [==============================] - 1s 17us/step - loss: 0.0058 - accuracy: 0.9986 - val_loss: 0.0918 - val_accuracy: 0.9774\n",
            "Epoch 22/50\n",
            "60000/60000 [==============================] - 1s 17us/step - loss: 0.0049 - accuracy: 0.9989 - val_loss: 0.0933 - val_accuracy: 0.9779\n",
            "Epoch 23/50\n",
            "60000/60000 [==============================] - 1s 17us/step - loss: 0.0042 - accuracy: 0.9992 - val_loss: 0.0924 - val_accuracy: 0.9779\n",
            "Epoch 24/50\n",
            "60000/60000 [==============================] - 1s 17us/step - loss: 0.0045 - accuracy: 0.9988 - val_loss: 0.0920 - val_accuracy: 0.9784\n",
            "Epoch 25/50\n",
            "60000/60000 [==============================] - 1s 17us/step - loss: 0.0054 - accuracy: 0.9985 - val_loss: 0.1028 - val_accuracy: 0.9759\n",
            "Epoch 26/50\n",
            "60000/60000 [==============================] - 1s 17us/step - loss: 0.0065 - accuracy: 0.9982 - val_loss: 0.1007 - val_accuracy: 0.9765\n",
            "Epoch 27/50\n",
            "60000/60000 [==============================] - 1s 17us/step - loss: 0.0059 - accuracy: 0.9983 - val_loss: 0.0983 - val_accuracy: 0.9774\n",
            "Epoch 28/50\n",
            "60000/60000 [==============================] - 1s 17us/step - loss: 0.0044 - accuracy: 0.9988 - val_loss: 0.0987 - val_accuracy: 0.9786\n",
            "Epoch 29/50\n",
            "60000/60000 [==============================] - 1s 17us/step - loss: 0.0052 - accuracy: 0.9983 - val_loss: 0.1072 - val_accuracy: 0.9761\n",
            "Epoch 30/50\n",
            "60000/60000 [==============================] - 1s 17us/step - loss: 0.0045 - accuracy: 0.9986 - val_loss: 0.0998 - val_accuracy: 0.9783\n",
            "Epoch 31/50\n",
            "60000/60000 [==============================] - 1s 17us/step - loss: 0.0032 - accuracy: 0.9993 - val_loss: 0.1002 - val_accuracy: 0.9781\n",
            "Epoch 32/50\n",
            "60000/60000 [==============================] - 1s 17us/step - loss: 0.0033 - accuracy: 0.9991 - val_loss: 0.1060 - val_accuracy: 0.9768\n",
            "Epoch 33/50\n",
            "60000/60000 [==============================] - 1s 17us/step - loss: 0.0033 - accuracy: 0.9991 - val_loss: 0.1032 - val_accuracy: 0.9777\n",
            "Epoch 34/50\n",
            "60000/60000 [==============================] - 1s 17us/step - loss: 0.0040 - accuracy: 0.9988 - val_loss: 0.1062 - val_accuracy: 0.9785\n",
            "Epoch 35/50\n",
            "60000/60000 [==============================] - 1s 17us/step - loss: 0.0052 - accuracy: 0.9982 - val_loss: 0.1064 - val_accuracy: 0.9777\n",
            "Epoch 36/50\n",
            "60000/60000 [==============================] - 1s 17us/step - loss: 0.0053 - accuracy: 0.9983 - val_loss: 0.1036 - val_accuracy: 0.9793\n",
            "Epoch 37/50\n",
            "60000/60000 [==============================] - 1s 16us/step - loss: 0.0028 - accuracy: 0.9994 - val_loss: 0.0993 - val_accuracy: 0.9797\n",
            "Epoch 38/50\n",
            "60000/60000 [==============================] - 1s 17us/step - loss: 0.0018 - accuracy: 0.9997 - val_loss: 0.1071 - val_accuracy: 0.9791\n",
            "Epoch 39/50\n",
            "60000/60000 [==============================] - 1s 17us/step - loss: 0.0028 - accuracy: 0.9991 - val_loss: 0.1056 - val_accuracy: 0.9789\n",
            "Epoch 40/50\n",
            "60000/60000 [==============================] - 1s 17us/step - loss: 0.0042 - accuracy: 0.9987 - val_loss: 0.1075 - val_accuracy: 0.9790\n",
            "Epoch 41/50\n",
            "60000/60000 [==============================] - 1s 17us/step - loss: 0.0066 - accuracy: 0.9978 - val_loss: 0.1107 - val_accuracy: 0.9774\n",
            "Epoch 42/50\n",
            "60000/60000 [==============================] - 1s 17us/step - loss: 0.0039 - accuracy: 0.9988 - val_loss: 0.1103 - val_accuracy: 0.9787\n",
            "Epoch 43/50\n",
            "60000/60000 [==============================] - 1s 17us/step - loss: 0.0028 - accuracy: 0.9992 - val_loss: 0.1042 - val_accuracy: 0.9796\n",
            "Epoch 44/50\n",
            "60000/60000 [==============================] - 1s 17us/step - loss: 0.0031 - accuracy: 0.9991 - val_loss: 0.1075 - val_accuracy: 0.9790\n",
            "Epoch 45/50\n",
            "60000/60000 [==============================] - 1s 17us/step - loss: 0.0025 - accuracy: 0.9992 - val_loss: 0.1004 - val_accuracy: 0.9795\n",
            "Epoch 46/50\n",
            "60000/60000 [==============================] - 1s 17us/step - loss: 0.0035 - accuracy: 0.9988 - val_loss: 0.1083 - val_accuracy: 0.9779\n",
            "Epoch 47/50\n",
            "60000/60000 [==============================] - 1s 17us/step - loss: 0.0039 - accuracy: 0.9988 - val_loss: 0.1075 - val_accuracy: 0.9803\n",
            "Epoch 48/50\n",
            "60000/60000 [==============================] - 1s 18us/step - loss: 0.0036 - accuracy: 0.9988 - val_loss: 0.1090 - val_accuracy: 0.9784\n",
            "Epoch 49/50\n",
            "60000/60000 [==============================] - 1s 17us/step - loss: 0.0022 - accuracy: 0.9994 - val_loss: 0.1051 - val_accuracy: 0.9797\n",
            "Epoch 50/50\n",
            "60000/60000 [==============================] - 1s 17us/step - loss: 0.0014 - accuracy: 0.9997 - val_loss: 0.1075 - val_accuracy: 0.9806\n"
          ]
        }
      ]
    },
    {
      "cell_type": "code",
      "metadata": {
        "colab": {
          "base_uri": "https://localhost:8080/",
          "height": 295
        },
        "id": "9BT-cl3-9LYG",
        "outputId": "bca689c0-1e04-40d7-a300-2323217d2000"
      },
      "source": [
        "#Plot loss vs epoch\n",
        "#FILL THIS IN\n",
        "plt.plot(pca_defence_meta_data.history['loss'])\n",
        "plt.plot(pca_defence_meta_data.history['val_loss'])\n",
        "plt.xlabel(\"Epochs\")\n",
        "plt.ylabel(\"Loss\")\n",
        "plt.title(\"Model Loss vs Epochs\")\n",
        "plt.grid(True)\n",
        "plt.legend(['train','val'],loc='upper left')\n",
        "plt.show()"
      ],
      "execution_count": 24,
      "outputs": [
        {
          "output_type": "display_data",
          "data": {
            "image/png": "[encoded data removed]",
            "text/plain": [
              "<Figure size 432x288 with 1 Axes>"
            ]
          },
          "metadata": {
            "needs_background": "light"
          }
        }
      ]
    },
    {
      "cell_type": "code",
      "metadata": {
        "colab": {
          "base_uri": "https://localhost:8080/",
          "height": 295
        },
        "id": "TTOR5jd09dKR",
        "outputId": "0bb1b5a0-fba2-48b8-cf01-908a6795dd0c"
      },
      "source": [
        "#Plot accuracy vs epoch\n",
        "#FILL THIS IN\n",
        "plt.plot(pca_defence_meta_data.history['accuracy'])\n",
        "plt.plot(pca_defence_meta_data.history['val_accuracy'])\n",
        "plt.xlabel(\"Epochs\")\n",
        "plt.ylabel(\"Accuracy\")\n",
        "plt.title(\"Model Accuracy vs Epochs\")\n",
        "plt.grid(True)\n",
        "plt.legend(['train','val'],loc='upper left')\n",
        "plt.show()"
      ],
      "execution_count": 25,
      "outputs": [
        {
          "output_type": "display_data",
          "data": {
            "image/png": "[encoded data removed]",
            "text/plain": [
              "<Figure size 432x288 with 1 Axes>"
            ]
          },
          "metadata": {
            "needs_background": "light"
          }
        }
      ]
    },
    {
      "cell_type": "code",
      "metadata": {
        "id": "o9L61AfG2y94",
        "colab": {
          "base_uri": "https://localhost:8080/"
        },
        "outputId": "84b52046-219c-4d5f-b76f-7ef820c7d384"
      },
      "source": [
        "#Using the defense (and comparing to baseline accuracy)\n",
        "#FILL THIS IN \n",
        "acc = pca_defence.evaluate(pca_cw_test,label_test)\n",
        "print(\"Accuracy of the classifier with FGM= %.2f%%\" %(acc[1]*100))"
      ],
      "execution_count": 29,
      "outputs": [
        {
          "output_type": "stream",
          "name": "stdout",
          "text": [
            "10000/10000 [==============================] - 0s 26us/step\n",
            "Accuracy of the classifier with FGM= 85.92%\n"
          ]
        }
      ]
    },
    {
      "cell_type": "markdown",
      "metadata": {
        "id": "KP0mENqGhDt0"
      },
      "source": [
        "#Part 5: DeepFool "
      ]
    },
    {
      "cell_type": "code",
      "metadata": {
        "id": "zHraovc2hES3",
        "colab": {
          "base_uri": "https://localhost:8080/"
        },
        "outputId": "a48d6a48-5338-48a8-8208-0842bf0c4799"
      },
      "source": [
        "#Implementing the DeepFool attack\n",
        "\n",
        "#DeepFool Instance on trained classifier from Part 1\n",
        "#FILL THIS IN\n",
        "df = DeepFool(wrap, sess=sess)\n",
        "\n",
        "#Attack parameters\n",
        "#FILL THIS IN\n",
        "df_params = {'nb_candidate': 10, 'max_iter': 50, 'clip_min': 0.0, 'clip_max': 1.0}\n",
        "\n",
        "#Generate adversarial data\n",
        "#FILL THIS IN\n",
        "df_test_data = df.generate_np(data_test_reshape,**df_params)\n",
        "\n",
        "#Evaluate accuracy of perturbed data on target classifier\n",
        "#FILL THIS IN\n",
        "acc = attacker.evaluate(df_test_data,label_test)\n",
        "print(\"Accuracy of the classifier with DeepFool= %.2f%%\" %(acc[1]*100))"
      ],
      "execution_count": 30,
      "outputs": [
        {
          "output_type": "stream",
          "name": "stdout",
          "text": [
            "10000/10000 [==============================] - 0s 29us/step\n",
            "Accuracy of the classifier with DeepFool= 1.34%\n"
          ]
        }
      ]
    },
    {
      "cell_type": "code",
      "metadata": {
        "id": "zEsLfmxThZ6M",
        "colab": {
          "base_uri": "https://localhost:8080/",
          "height": 934
        },
        "outputId": "610a639a-ce4f-44f3-e573-8d7386a046dd"
      },
      "source": [
        "#Show ten original samples and their corresponding adversarial samples\n",
        "#FILL THIS IN\n",
        "r = 10\n",
        "c = 2\n",
        "fig = plt.figure(figsize = (8,16))\n",
        "plt.gray()\n",
        "ax = fig.add_subplot(1,2,1)\n",
        "ax.imshow(data_test_reshape[0:10].reshape(-1,28))\n",
        "ax.set_title('Original samples')\n",
        "ax.axis('off')\n",
        "\n",
        "ax = fig.add_subplot(1,2,2)\n",
        "ax.imshow(df_test_data[0:10].reshape(-1,28))\n",
        "ax.set_title('Adversarial samples')\n",
        "ax.axis('off')"
      ],
      "execution_count": 31,
      "outputs": [
        {
          "output_type": "execute_result",
          "data": {
            "text/plain": [
              "(-0.5, 27.5, 279.5, -0.5)"
            ]
          },
          "metadata": {},
          "execution_count": 31
        },
        {
          "output_type": "display_data",
          "data": {
            "image/png": "[encoded data removed]",
            "text/plain": [
              "<Figure size 576x1152 with 2 Axes>"
            ]
          },
          "metadata": {
            "needs_background": "light"
          }
        }
      ]
    },
    {
      "cell_type": "code",
      "metadata": {
        "id": "tOapt7QaM4U_",
        "colab": {
          "base_uri": "https://localhost:8080/"
        },
        "outputId": "87cacf99-44c4-463a-a95e-0b19669bd42a"
      },
      "source": [
        "#Implementing the Denoising Autoencoder Defense\n",
        "\n",
        "def autoencoder():\n",
        "    ae = Sequential()\n",
        "    ae.add(Dense(400, activation=None, kernel_initializer=\"normal\", input_dim=784))\n",
        "    ae.add(Dense(200, activation=None, kernel_initializer='normal'))\n",
        "    ae.add(Dense(100, activation=None, kernel_initializer='normal'))\n",
        "    ae.add(Dense(200, activation=None, kernel_initializer='normal'))\n",
        "    ae.add(Dense(400, activation=None, kernel_initializer='normal'))\n",
        "    ae.add(Dense(784, activation='sigmoid', kernel_initializer='normal'))\n",
        "    return ae\n",
        "\n",
        "#Create training data for DAE \n",
        "df_attack_data_train = df.generate_np(data_train_reshape, **df_params)\n",
        "data_total_train = np.concatenate([df_attack_data_train, data_train_reshape])\n",
        "\n",
        "#Create and train DAE graph\n",
        "#FILL THIS IN\n",
        "df_defence = autoencoder()\n",
        "df_defence.compile(loss=['categorical_crossentropy'],\n",
        "                      optimizer='adam',\n",
        "                      metrics=['accuracy'])\n",
        "\n",
        "df_defence.fit(data_total_train, data_total_train,\n",
        "            batch_size = 256,\n",
        "            epochs = 50,\n",
        "            shuffle= True)"
      ],
      "execution_count": 35,
      "outputs": [
        {
          "output_type": "stream",
          "name": "stdout",
          "text": [
            "Epoch 1/50\n",
            "120000/120000 [==============================] - 18s 150us/step - loss: 575.5076 - accuracy: 0.0079\n",
            "Epoch 2/50\n",
            "120000/120000 [==============================] - 17s 146us/step - loss: 554.7646 - accuracy: 0.0124\n",
            "Epoch 3/50\n",
            "120000/120000 [==============================] - 17s 145us/step - loss: 552.0827 - accuracy: 0.0139\n",
            "Epoch 4/50\n",
            "120000/120000 [==============================] - 18s 146us/step - loss: 550.9040 - accuracy: 0.0139\n",
            "Epoch 5/50\n",
            "120000/120000 [==============================] - 17s 146us/step - loss: 550.1815 - accuracy: 0.0146\n",
            "Epoch 6/50\n",
            "120000/120000 [==============================] - 18s 147us/step - loss: 549.7205 - accuracy: 0.0153\n",
            "Epoch 7/50\n",
            "120000/120000 [==============================] - 18s 148us/step - loss: 549.3462 - accuracy: 0.0160\n",
            "Epoch 8/50\n",
            "120000/120000 [==============================] - 18s 148us/step - loss: 549.0706 - accuracy: 0.0165\n",
            "Epoch 9/50\n",
            "120000/120000 [==============================] - 18s 148us/step - loss: 548.8741 - accuracy: 0.0171\n",
            "Epoch 10/50\n",
            "120000/120000 [==============================] - 18s 151us/step - loss: 548.7368 - accuracy: 0.0170\n",
            "Epoch 11/50\n",
            "120000/120000 [==============================] - 18s 150us/step - loss: 548.6613 - accuracy: 0.0170\n",
            "Epoch 12/50\n",
            "120000/120000 [==============================] - 18s 149us/step - loss: 548.6200 - accuracy: 0.0174\n",
            "Epoch 13/50\n",
            "120000/120000 [==============================] - 18s 153us/step - loss: 548.5743 - accuracy: 0.0172\n",
            "Epoch 14/50\n",
            "120000/120000 [==============================] - 18s 150us/step - loss: 548.5483 - accuracy: 0.0170\n",
            "Epoch 15/50\n",
            "120000/120000 [==============================] - 22s 182us/step - loss: 548.5485 - accuracy: 0.0171\n",
            "Epoch 16/50\n",
            "120000/120000 [==============================] - 18s 148us/step - loss: 548.5315 - accuracy: 0.0171\n",
            "Epoch 17/50\n",
            "120000/120000 [==============================] - 18s 147us/step - loss: 548.5203 - accuracy: 0.0170\n",
            "Epoch 18/50\n",
            "120000/120000 [==============================] - 18s 148us/step - loss: 548.5151 - accuracy: 0.0174\n",
            "Epoch 19/50\n",
            "120000/120000 [==============================] - 18s 148us/step - loss: 548.5133 - accuracy: 0.0169\n",
            "Epoch 20/50\n",
            "120000/120000 [==============================] - 18s 147us/step - loss: 548.5023 - accuracy: 0.0171\n",
            "Epoch 21/50\n",
            "120000/120000 [==============================] - 18s 148us/step - loss: 548.5022 - accuracy: 0.0171\n",
            "Epoch 22/50\n",
            "120000/120000 [==============================] - 18s 150us/step - loss: 548.4920 - accuracy: 0.0171\n",
            "Epoch 23/50\n",
            "120000/120000 [==============================] - 18s 150us/step - loss: 548.4928 - accuracy: 0.0167\n",
            "Epoch 24/50\n",
            "120000/120000 [==============================] - 18s 149us/step - loss: 548.4882 - accuracy: 0.0167\n",
            "Epoch 25/50\n",
            "120000/120000 [==============================] - 18s 150us/step - loss: 548.4901 - accuracy: 0.0170\n",
            "Epoch 26/50\n",
            "120000/120000 [==============================] - 18s 152us/step - loss: 548.4803 - accuracy: 0.0169\n",
            "Epoch 27/50\n",
            "120000/120000 [==============================] - 18s 148us/step - loss: 548.4794 - accuracy: 0.0168\n",
            "Epoch 28/50\n",
            "120000/120000 [==============================] - 18s 146us/step - loss: 548.4754 - accuracy: 0.0170\n",
            "Epoch 29/50\n",
            "120000/120000 [==============================] - 18s 146us/step - loss: 548.4718 - accuracy: 0.0171\n",
            "Epoch 30/50\n",
            "120000/120000 [==============================] - 18s 149us/step - loss: 548.4696 - accuracy: 0.0173\n",
            "Epoch 31/50\n",
            "120000/120000 [==============================] - 18s 150us/step - loss: 548.4628 - accuracy: 0.0170\n",
            "Epoch 32/50\n",
            "120000/120000 [==============================] - 18s 148us/step - loss: 548.4688 - accuracy: 0.0171\n",
            "Epoch 33/50\n",
            "120000/120000 [==============================] - 17s 146us/step - loss: 548.4612 - accuracy: 0.0170\n",
            "Epoch 34/50\n",
            "120000/120000 [==============================] - 17s 146us/step - loss: 548.4602 - accuracy: 0.0169\n",
            "Epoch 35/50\n",
            "120000/120000 [==============================] - 18s 148us/step - loss: 548.4550 - accuracy: 0.0169\n",
            "Epoch 36/50\n",
            "120000/120000 [==============================] - 17s 146us/step - loss: 548.4552 - accuracy: 0.0174\n",
            "Epoch 37/50\n",
            "120000/120000 [==============================] - 18s 146us/step - loss: 548.4539 - accuracy: 0.0167\n",
            "Epoch 38/50\n",
            "120000/120000 [==============================] - 18s 148us/step - loss: 548.4479 - accuracy: 0.0168\n",
            "Epoch 39/50\n",
            "120000/120000 [==============================] - 17s 146us/step - loss: 548.4433 - accuracy: 0.0166\n",
            "Epoch 40/50\n",
            "120000/120000 [==============================] - 17s 145us/step - loss: 548.4475 - accuracy: 0.0169\n",
            "Epoch 41/50\n",
            "120000/120000 [==============================] - 18s 147us/step - loss: 548.4409 - accuracy: 0.0170\n",
            "Epoch 42/50\n",
            "120000/120000 [==============================] - 18s 147us/step - loss: 548.4390 - accuracy: 0.0170\n",
            "Epoch 43/50\n",
            "120000/120000 [==============================] - 18s 147us/step - loss: 548.4375 - accuracy: 0.0170\n",
            "Epoch 44/50\n",
            "120000/120000 [==============================] - 18s 147us/step - loss: 548.4355 - accuracy: 0.0172\n",
            "Epoch 45/50\n",
            "120000/120000 [==============================] - 17s 146us/step - loss: 548.4305 - accuracy: 0.0170\n",
            "Epoch 46/50\n",
            "120000/120000 [==============================] - 18s 148us/step - loss: 548.4328 - accuracy: 0.0171\n",
            "Epoch 47/50\n",
            "120000/120000 [==============================] - 17s 146us/step - loss: 548.4268 - accuracy: 0.0171\n",
            "Epoch 48/50\n",
            "120000/120000 [==============================] - 18s 149us/step - loss: 548.4212 - accuracy: 0.0169\n",
            "Epoch 49/50\n",
            "120000/120000 [==============================] - 20s 170us/step - loss: 548.4211 - accuracy: 0.0167\n",
            "Epoch 50/50\n",
            "120000/120000 [==============================] - 18s 148us/step - loss: 548.4229 - accuracy: 0.0170\n"
          ]
        },
        {
          "output_type": "execute_result",
          "data": {
            "text/plain": [
              "<keras.callbacks.callbacks.History at 0x7fae36a38dd0>"
            ]
          },
          "metadata": {},
          "execution_count": 35
        }
      ]
    },
    {
      "cell_type": "code",
      "metadata": {
        "id": "5CjKifVRNMMV",
        "colab": {
          "base_uri": "https://localhost:8080/"
        },
        "outputId": "820412dd-e971-43df-b04f-3d6540c78d5a"
      },
      "source": [
        "#Using the defense\n",
        "\n",
        "#Use DAE to to remove adversarial perturbation \n",
        "#FILL THIS IN\n",
        "df_free_data = df_defence.predict(df_test_data)\n",
        "\n",
        "#Evaluate accuracy of FGM samples after denoising \n",
        "#FILL THIS IN\n",
        "acc = attacker.evaluate(fgm_test_data,label_test)\n",
        "print(\"Accuracy of the classifier with DAE = %.2f%%\" %(acc[1]*100))"
      ],
      "execution_count": 42,
      "outputs": [
        {
          "output_type": "stream",
          "name": "stdout",
          "text": [
            "10000/10000 [==============================] - 0s 33us/step\n",
            "Accuracy of the classifier with DAE = 79.57%\n"
          ]
        }
      ]
    },
    {
      "cell_type": "code",
      "metadata": {
        "id": "6NSAW0v3NSMB",
        "colab": {
          "base_uri": "https://localhost:8080/",
          "height": 934
        },
        "outputId": "3d8ba2a7-c364-4590-c313-67f57d3ac812"
      },
      "source": [
        "#Show ten samples of adversarial samples after denoising\n",
        "#FILL THIS IN\n",
        "r = 10\n",
        "c = 2\n",
        "fig = plt.figure(figsize = (8,16))\n",
        "plt.gray()\n",
        "ax = fig.add_subplot(1,2,1)\n",
        "ax.imshow(df_test_data[0:10].reshape(-1,28))\n",
        "ax.set_title('Adversarial samples')\n",
        "ax.axis('off')\n",
        "\n",
        "ax = fig.add_subplot(1,2,2)\n",
        "ax.imshow(df_free_data[0:10].reshape(-1,28))\n",
        "ax.set_title('Denoised samples')\n",
        "ax.axis('off')"
      ],
      "execution_count": 39,
      "outputs": [
        {
          "output_type": "execute_result",
          "data": {
            "text/plain": [
              "(-0.5, 27.5, 279.5, -0.5)"
            ]
          },
          "metadata": {},
          "execution_count": 39
        },
        {
          "output_type": "display_data",
          "data": {
            "image/png": "[encoded data removed]",
            "text/plain": [
              "<Figure size 576x1152 with 2 Axes>"
            ]
          },
          "metadata": {
            "needs_background": "light"
          }
        }
      ]
    }
  ]
}